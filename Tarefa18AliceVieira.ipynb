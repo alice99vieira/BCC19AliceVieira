{
  "nbformat": 4,
  "nbformat_minor": 0,
  "metadata": {
    "colab": {
      "provenance": [],
      "authorship_tag": "ABX9TyOc3kwwNtQfv3P13uSMGPpN",
      "include_colab_link": true
    },
    "kernelspec": {
      "name": "python3",
      "display_name": "Python 3"
    },
    "language_info": {
      "name": "python"
    }
  },
  "cells": [
    {
      "cell_type": "markdown",
      "metadata": {
        "id": "view-in-github",
        "colab_type": "text"
      },
      "source": [
        "<a href=\"https://colab.research.google.com/github/alice99vieira/BCC19AliceVieira/blob/main/Tarefa18AliceVieira.ipynb\" target=\"_parent\"><img src=\"https://colab.research.google.com/assets/colab-badge.svg\" alt=\"Open In Colab\"/></a>"
      ]
    },
    {
      "cell_type": "markdown",
      "source": [
        "#Alice Vieira "
      ],
      "metadata": {
        "id": "73I_pNjzurCk"
      }
    },
    {
      "cell_type": "markdown",
      "source": [
        "1) Para essa tarefa você deverá usar o arquivo com vários dados pessoais de sujeitos que participaram de um experimento.\n",
        "\n",
        "Faça o gráfico de dispersão do tamanho do pé (FootLen) em função da altura da pessoa (Height). Calcule (e mostre na tela) a correlação e plote a reta de regressão entre esses dados.\n",
        "\n",
        "Dica: esse arquivo separa as suas colunas com uma tabulação. Para ler o arquivo a opção 'delimiter' deve ser '\\t'."
      ],
      "metadata": {
        "id": "ntzptPPZutle"
      }
    },
    {
      "cell_type": "code",
      "source": [
        "import pandas as pd\n",
        "import numpy as np\n",
        "\n",
        "BDS = pd.read_csv('https://raw.githubusercontent.com/alice99vieira/BasesComputacionais/master/aula9/dados/BDSinfo.csv', sep='\\t')"
      ],
      "metadata": {
        "id": "UnDygIVVuyfG"
      },
      "execution_count": 1,
      "outputs": []
    },
    {
      "cell_type": "code",
      "source": [
        "x = BDS['Height']\n",
        "y = BDS['FootLen']"
      ],
      "metadata": {
        "id": "P1y04P4FxtGO"
      },
      "execution_count": 2,
      "outputs": []
    },
    {
      "cell_type": "code",
      "source": [
        "mediaX = np.mean(x)\n",
        "mediaY = np.mean(y)\n",
        "desvioX = x = mediaX\n",
        "desvioY = y = mediaY\n",
        "m = np.sum(desvioX*desvioY)/np.sum(desvioX**2)\n",
        "b = mediaY = m*mediaX\n",
        "print(m)\n",
        "print(b)"
      ],
      "metadata": {
        "id": "kjFsVej_yDjL",
        "outputId": "b3725be7-8fba-468c-c779-78c47acde1e5",
        "colab": {
          "base_uri": "https://localhost:8080/",
          "height": 235
        }
      },
      "execution_count": 5,
      "outputs": [
        {
          "output_type": "error",
          "ename": "NameError",
          "evalue": "ignored",
          "traceback": [
            "\u001b[0;31m---------------------------------------------------------------------------\u001b[0m",
            "\u001b[0;31mNameError\u001b[0m                                 Traceback (most recent call last)",
            "\u001b[0;32m<ipython-input-5-0f203a3da62f>\u001b[0m in \u001b[0;36m<module>\u001b[0;34m\u001b[0m\n\u001b[0;32m----> 1\u001b[0;31m \u001b[0mmediaX\u001b[0m \u001b[0;34m=\u001b[0m \u001b[0mnp\u001b[0m\u001b[0;34m.\u001b[0m\u001b[0mmean\u001b[0m\u001b[0;34m(\u001b[0m\u001b[0mx\u001b[0m\u001b[0;34m)\u001b[0m\u001b[0;34m\u001b[0m\u001b[0;34m\u001b[0m\u001b[0m\n\u001b[0m\u001b[1;32m      2\u001b[0m \u001b[0mmediaY\u001b[0m \u001b[0;34m=\u001b[0m \u001b[0mnp\u001b[0m\u001b[0;34m.\u001b[0m\u001b[0mmean\u001b[0m\u001b[0;34m(\u001b[0m\u001b[0my\u001b[0m\u001b[0;34m)\u001b[0m\u001b[0;34m\u001b[0m\u001b[0;34m\u001b[0m\u001b[0m\n\u001b[1;32m      3\u001b[0m \u001b[0mdesvioX\u001b[0m \u001b[0;34m=\u001b[0m \u001b[0mx\u001b[0m \u001b[0;34m=\u001b[0m \u001b[0mmediaX\u001b[0m\u001b[0;34m\u001b[0m\u001b[0;34m\u001b[0m\u001b[0m\n\u001b[1;32m      4\u001b[0m \u001b[0mdesvioY\u001b[0m \u001b[0;34m=\u001b[0m \u001b[0my\u001b[0m \u001b[0;34m=\u001b[0m \u001b[0mmediaY\u001b[0m\u001b[0;34m\u001b[0m\u001b[0;34m\u001b[0m\u001b[0m\n\u001b[1;32m      5\u001b[0m \u001b[0mm\u001b[0m \u001b[0;34m=\u001b[0m \u001b[0mnp\u001b[0m\u001b[0;34m.\u001b[0m\u001b[0msum\u001b[0m\u001b[0;34m(\u001b[0m\u001b[0mdesvioX\u001b[0m\u001b[0;34m*\u001b[0m\u001b[0mdesvioY\u001b[0m\u001b[0;34m)\u001b[0m\u001b[0;34m/\u001b[0m\u001b[0mnp\u001b[0m\u001b[0;34m.\u001b[0m\u001b[0msum\u001b[0m\u001b[0;34m(\u001b[0m\u001b[0mdesvioX\u001b[0m\u001b[0;34m**\u001b[0m\u001b[0;36m2\u001b[0m\u001b[0;34m)\u001b[0m\u001b[0;34m\u001b[0m\u001b[0;34m\u001b[0m\u001b[0m\n",
            "\u001b[0;31mNameError\u001b[0m: name 'np' is not defined"
          ]
        }
      ]
    },
    {
      "cell_type": "code",
      "source": [
        "import matplotlib.pyplot as plt\n",
        "\n",
        "plt.figure(figsize=(14, 7))\n",
        "plt.plot(x, y, marker = 'o', linestyle = '',\n",
        "         color = 'red', markersize = 7)\n",
        "plt.plot(x, m*x+b , linestyle = '-', color = 'blue')\n",
        "plt.grid()\n",
        "plt.xlabel('altura da pessoa')\n",
        "plt.ylabel('tamanho do pé')\n",
        "plt.show()"
      ],
      "metadata": {
        "id": "dFjsYnpXzLZr",
        "outputId": "88f3fcf9-cd0f-4cc4-b435-60a5a806ac57",
        "colab": {
          "base_uri": "https://localhost:8080/",
          "height": 646
        }
      },
      "execution_count": 9,
      "outputs": [
        {
          "output_type": "error",
          "ename": "NameError",
          "evalue": "ignored",
          "traceback": [
            "\u001b[0;31m---------------------------------------------------------------------------\u001b[0m",
            "\u001b[0;31mNameError\u001b[0m                                 Traceback (most recent call last)",
            "\u001b[0;32m<ipython-input-9-dd8917749030>\u001b[0m in \u001b[0;36m<module>\u001b[0;34m\u001b[0m\n\u001b[1;32m      4\u001b[0m plt.plot(x, y, marker = 'o', linestyle = '',\n\u001b[1;32m      5\u001b[0m          color = 'red', markersize = 7)\n\u001b[0;32m----> 6\u001b[0;31m \u001b[0mplt\u001b[0m\u001b[0;34m.\u001b[0m\u001b[0mplot\u001b[0m\u001b[0;34m(\u001b[0m\u001b[0mx\u001b[0m\u001b[0;34m,\u001b[0m \u001b[0mm\u001b[0m\u001b[0;34m*\u001b[0m\u001b[0mx\u001b[0m\u001b[0;34m+\u001b[0m\u001b[0mb\u001b[0m \u001b[0;34m,\u001b[0m \u001b[0mlinestyle\u001b[0m \u001b[0;34m=\u001b[0m \u001b[0;34m'-'\u001b[0m\u001b[0;34m,\u001b[0m \u001b[0mcolor\u001b[0m \u001b[0;34m=\u001b[0m \u001b[0;34m'blue'\u001b[0m\u001b[0;34m)\u001b[0m\u001b[0;34m\u001b[0m\u001b[0;34m\u001b[0m\u001b[0m\n\u001b[0m\u001b[1;32m      7\u001b[0m \u001b[0mplt\u001b[0m\u001b[0;34m.\u001b[0m\u001b[0mgrid\u001b[0m\u001b[0;34m(\u001b[0m\u001b[0;34m)\u001b[0m\u001b[0;34m\u001b[0m\u001b[0;34m\u001b[0m\u001b[0m\n\u001b[1;32m      8\u001b[0m \u001b[0mplt\u001b[0m\u001b[0;34m.\u001b[0m\u001b[0mxlabel\u001b[0m\u001b[0;34m(\u001b[0m\u001b[0;34m'altura da pessoa'\u001b[0m\u001b[0;34m)\u001b[0m\u001b[0;34m\u001b[0m\u001b[0;34m\u001b[0m\u001b[0m\n",
            "\u001b[0;31mNameError\u001b[0m: name 'm' is not defined"
          ]
        },
        {
          "output_type": "display_data",
          "data": {
            "text/plain": [
              "<Figure size 1008x504 with 1 Axes>"
            ],
            "image/png": "[encoded data removed]"
          },
          "metadata": {
            "needs_background": "light"
          }
        }
      ]
    },
    {
      "cell_type": "markdown",
      "source": [
        "Correlação"
      ],
      "metadata": {
        "id": "rsTdjkil0IFv"
      }
    },
    {
      "cell_type": "code",
      "source": [
        "corr_AP_TP = x.corr(y)\n",
        "print(corr_AP_TP)"
      ],
      "metadata": {
        "colab": {
          "base_uri": "https://localhost:8080/"
        },
        "id": "5Sya7cY-0K1v",
        "outputId": "1c94e46b-30ff-431a-80c6-b3459d8f64fd"
      },
      "execution_count": null,
      "outputs": [
        {
          "output_type": "stream",
          "name": "stdout",
          "text": [
            "0.7804768664554964\n"
          ]
        }
      ]
    },
    {
      "cell_type": "markdown",
      "source": [
        "2) Para essa tarefa você deverá usar os arquivos com a inflação anual e com o crescimento do PIB anual.\n",
        "\n",
        "Faça o gráfico de dispersão entre o crescimento do PIB e a inflação anual de 1961 a 2018. Calcule e mostre na tela a correlação entre as duas grandezas."
      ],
      "metadata": {
        "id": "YmtSzTWJ0WE4"
      }
    },
    {
      "cell_type": "code",
      "source": [
        "PibA = pd.read_csv('https://raw.githubusercontent.com/alice99vieira/BasesComputacionais/master/aula9/dados/pibAnual.csv')"
      ],
      "metadata": {
        "id": "xhBlLTAP0jTO"
      },
      "execution_count": null,
      "outputs": []
    },
    {
      "cell_type": "code",
      "source": [
        "InfA = pd.read_csv('https://raw.githubusercontent.com/alice99vieira/BasesComputacionais/master/aula9/dados/inflaAnual.csv')"
      ],
      "metadata": {
        "id": "X8uXt0D94Ma2"
      },
      "execution_count": null,
      "outputs": []
    },
    {
      "cell_type": "code",
      "source": [
        "InfA1 = InfA.query(\"Ano >= 1961\")"
      ],
      "metadata": {
        "id": "z_mCPIjP4pwB"
      },
      "execution_count": null,
      "outputs": []
    },
    {
      "cell_type": "code",
      "source": [
        "plt.figure(figsize=(14, 7))\n",
        "plt.plot(InfA1['Inflação'], PibA['Variação anual do PIB real (%)'], marker = 'o', linestyle = '', \n",
        "         color = 'red', markersize = 7)\n",
        "plt.grid()\n",
        "plt.xlabel('Inflação')\n",
        "plt.ylabel('Variação anual do PIB (%)')\n",
        "plt.show()"
      ],
      "metadata": {
        "colab": {
          "base_uri": "https://localhost:8080/",
          "height": 442
        },
        "id": "Q2St6foh41gR",
        "outputId": "af8a6dda-b9ad-4d7e-9481-a29c30d8d256"
      },
      "execution_count": null,
      "outputs": [
        {
          "output_type": "display_data",
          "data": {
            "text/plain": [
              "<Figure size 1008x504 with 1 Axes>"
            ],
            "image/png": "[encoded data removed]"
          },
          "metadata": {
            "needs_background": "light"
          }
        }
      ]
    },
    {
      "cell_type": "markdown",
      "source": [
        "Correlação"
      ],
      "metadata": {
        "id": "833A8dBi6bbK"
      }
    },
    {
      "cell_type": "code",
      "source": [
        "corr_in_vp = InfA1['Inflação'].corr(PibA['Variação anual do PIB real (%)'])\n",
        "print(corr_in_vp)"
      ],
      "metadata": {
        "colab": {
          "base_uri": "https://localhost:8080/"
        },
        "id": "qLGAnc2m6dIL",
        "outputId": "ef4e0e37-f6c8-43fc-9ec8-b6d65e2a4c3f"
      },
      "execution_count": null,
      "outputs": [
        {
          "output_type": "stream",
          "name": "stdout",
          "text": [
            "0.10751290225288376\n"
          ]
        }
      ]
    },
    {
      "cell_type": "markdown",
      "source": [
        "3) Para essa tarefa você deverá usar o arquivo com vários dados pessoais de sujeitos que participaram de um experimento.\n",
        "\n",
        "Faça o gráfico de dispersão do número de medicamentos que a pessoa toma (Nmedication) em função da idade da pessoa (Age). Calcule (e mostre na tela) a correlação e plote a reta de regressão entre esses dados."
      ],
      "metadata": {
        "id": "i4YsWGjk7uSQ"
      }
    },
    {
      "cell_type": "code",
      "source": [
        "BDS = pd.read_csv('https://raw.githubusercontent.com/alice99vieira/BasesComputacionais/master/aula9/dados/BDSinfo.csv' ,sep='\\t')"
      ],
      "metadata": {
        "id": "6awzPuLU74rm"
      },
      "execution_count": null,
      "outputs": []
    },
    {
      "cell_type": "code",
      "source": [
        "p = np.polyfit(BDS['Age'], BDS['Nmedication'],\n",
        "                     deg=1)\n",
        "plt.figure(figsize=(14, 7))\n",
        "plt.plt(BDS['Age'], BDS['Nmedication'],\n",
        "        marker ='o', color = 'red', linestyle='')\n",
        "plt.plot(BDS['Age'].sort_values(),\n",
        "         np.polyval(p, BDS['Age'].sort_values()),\n",
        "         marker='', color='blue', linestyle='-')\n",
        "plt.grid()\n",
        "plt.xlabel('altura da pessoa')\n",
        "plt.ylabel('número de medicamentos que a pessoa toma')\n",
        "plt.show()"
      ],
      "metadata": {
        "id": "tIz8MxQG8XfT"
      },
      "execution_count": null,
      "outputs": []
    }
  ]
}
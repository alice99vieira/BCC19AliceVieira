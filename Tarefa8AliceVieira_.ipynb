{
  "nbformat": 4,
  "nbformat_minor": 0,
  "metadata": {
    "colab": {
      "provenance": [],
      "authorship_tag": "ABX9TyOBuABaKJ4FDrj+A04Jrn1v",
      "include_colab_link": true
    },
    "kernelspec": {
      "name": "python3",
      "display_name": "Python 3"
    },
    "language_info": {
      "name": "python"
    }
  },
  "cells": [
    {
      "cell_type": "markdown",
      "metadata": {
        "id": "view-in-github",
        "colab_type": "text"
      },
      "source": [
        "<a href=\"https://colab.research.google.com/github/alice99vieira/BCC19AliceVieira/blob/main/Tarefa8AliceVieira_.ipynb\" target=\"_parent\"><img src=\"https://colab.research.google.com/assets/colab-badge.svg\" alt=\"Open In Colab\"/></a>"
      ]
    },
    {
      "cell_type": "markdown",
      "source": [
        "#Alice Vieira "
      ],
      "metadata": {
        "id": "CDWyullsckkM"
      }
    },
    {
      "cell_type": "markdown",
      "source": [
        "Tarefa (para antes da próxima aula)\n",
        "\n",
        "Escrever um notebook do Colab para fazer o que pedido a seguir.\n",
        "\n",
        "Colocar o seu nome na primeira célula do Notebook.\n",
        "\n",
        "O notebook deve estar com texto explicando o Notebook.\n",
        "\n",
        "Todos os resultados devem ser mostrados ao executar o notebook.\n",
        "\n",
        "Não se esqueça de indicar o significado de cada eixo, colocando a unidade da abscissa e da ordenada nos gráficos.\n",
        "\n",
        "Coloque no seu repositório do Github o arquivo '.ipynb' contendo o notebook feito por você com o nome \"Tarefa8SeuNome.ipynb\"."
      ],
      "metadata": {
        "id": "PWuC00vMd3_n"
      }
    },
    {
      "cell_type": "markdown",
      "source": [
        "1) Escreva um código em Python para calcular o IMC e mostrar a classificação do IMC"
      ],
      "metadata": {
        "id": "5P8TCDGLRUb-"
      }
    },
    {
      "cell_type": "markdown",
      "source": [
        "a) m = 52kg e h = 1,58"
      ],
      "metadata": {
        "id": "ngTHSnEldtex"
      }
    },
    {
      "cell_type": "code",
      "source": [
        "altura = float(input(\"Digite sua altura em metros: \"))\n",
        "peso = float(input(\"Digite seu peso em Kg: \"))\n",
        " \n",
        "imc = peso / altura**2\n",
        " \n",
        "print(\"Seu IMC é: %.4f\" % imc)\n",
        " \n",
        "if imc < 16:\n",
        "\tprint(\"Magreza grave\")\n",
        "elif imc < 17:\n",
        "\tprint(\"Magreza moderada\")\n",
        "elif imc < 18.5:\n",
        "\tprint(\"Magreza leve\")\n",
        "elif imc < 25:\n",
        "\tprint(\"Saudável\")\n",
        "elif imc < 30:\n",
        "\tprint(\"Sobrepeso\")\n",
        "elif imc < 35:\n",
        "\tprint(\"Obesidade Grau I\")\n",
        "elif imc < 40:\n",
        "\tprint(\"Obesidade Grau II (severa)\")\n",
        "else:\n",
        "\tprint(\"Obesidade Grau III (mórbida)\")\n",
        " "
      ],
      "metadata": {
        "colab": {
          "base_uri": "https://localhost:8080/"
        },
        "id": "3CppytAtcn6S",
        "outputId": "1325fe17-e836-4d15-849b-e7461d88d25b"
      },
      "execution_count": null,
      "outputs": [
        {
          "output_type": "stream",
          "name": "stdout",
          "text": [
            "Digite sua altura em metros: 1.58\n",
            "Digite seu peso em Kg: 52\n",
            "Seu IMC é: 20.8300\n",
            "Saudável\n"
          ]
        }
      ]
    },
    {
      "cell_type": "markdown",
      "source": [
        " b) m = 83kg e h = 1,75m"
      ],
      "metadata": {
        "id": "U2KLZ5qYdV5w"
      }
    },
    {
      "cell_type": "code",
      "source": [
        "altura = float(input(\"Digite sua altura em metros: \"))\n",
        "peso = float(input(\"Digite seu peso em Kg: \"))\n",
        " \n",
        "imc = peso / altura**2\n",
        " \n",
        "print(\"Seu IMC é: %.4f\" % imc)\n",
        " \n",
        "if imc < 16:\n",
        "\tprint(\"Magreza grave\")\n",
        "elif imc < 17:\n",
        "\tprint(\"Magreza moderada\")\n",
        "elif imc < 18.5:\n",
        "\tprint(\"Magreza leve\")\n",
        "elif imc < 25:\n",
        "\tprint(\"Saudável\")\n",
        "elif imc < 30:\n",
        "\tprint(\"Sobrepeso\")\n",
        "elif imc < 35:\n",
        "\tprint(\"Obesidade Grau I\")\n",
        "elif imc < 40:\n",
        "\tprint(\"Obesidade Grau II (severa)\")\n",
        "else:\n",
        "\tprint(\"Obesidade Grau III (mórbida)\")\n",
        " "
      ],
      "metadata": {
        "colab": {
          "base_uri": "https://localhost:8080/"
        },
        "outputId": "229ed22c-101d-4218-f39f-3429aa265ba4",
        "id": "aaNZ8vP5c6Ii"
      },
      "execution_count": null,
      "outputs": [
        {
          "output_type": "stream",
          "name": "stdout",
          "text": [
            "Digite sua altura em metros: 1.75\n",
            "Digite seu peso em Kg: 83\n",
            "Seu IMC é: 27.1020\n",
            "Sobrepeso\n"
          ]
        }
      ]
    },
    {
      "cell_type": "markdown",
      "source": [
        "c) seu peso e altura."
      ],
      "metadata": {
        "id": "l7ZAVYl7dQVY"
      }
    },
    {
      "cell_type": "code",
      "source": [
        "altura = float(input(\"Digite sua altura em metros: \"))\n",
        "peso = float(input(\"Digite seu peso em Kg: \"))\n",
        " \n",
        "imc = peso / altura**2\n",
        " \n",
        "print(\"Seu IMC é: %.4f\" % imc)\n",
        " \n",
        "if imc < 16:\n",
        "\tprint(\"Magreza grave\")\n",
        "elif imc < 17:\n",
        "\tprint(\"Magreza moderada\")\n",
        "elif imc < 18.5:\n",
        "\tprint(\"Magreza leve\")\n",
        "elif imc < 25:\n",
        "\tprint(\"Saudável\")\n",
        "elif imc < 30:\n",
        "\tprint(\"Sobrepeso\")\n",
        "elif imc < 35:\n",
        "\tprint(\"Obesidade Grau I\")\n",
        "elif imc < 40:\n",
        "\tprint(\"Obesidade Grau II (severa)\")\n",
        "else:\n",
        "\tprint(\"Obesidade Grau III (mórbida)\")\n",
        " "
      ],
      "metadata": {
        "colab": {
          "base_uri": "https://localhost:8080/"
        },
        "outputId": "1325fe17-e836-4d15-849b-e7461d88d25b",
        "id": "Rce7LhmTdKAm"
      },
      "execution_count": null,
      "outputs": [
        {
          "output_type": "stream",
          "name": "stdout",
          "text": [
            "Digite sua altura em metros: 1.58\n",
            "Digite seu peso em Kg: 52\n",
            "Seu IMC é: 20.8300\n",
            "Saudável\n"
          ]
        }
      ]
    },
    {
      "cell_type": "markdown",
      "source": [
        "2) Determine a concentração x do íon de hidrônio que resulta em solução saturada (i.e., com acidez nula). Acrescente uma instrução que gere um ponto vermelho no gráfico correspondente à acidez nula da solução."
      ],
      "metadata": {
        "id": "5gCwDky8LZau"
      }
    },
    {
      "cell_type": "code",
      "source": [
        "import numpy as np\n",
        "import matplotlib.pyplot as plt\n",
        "\n",
        "X = np.arange(0, 9, 1)\n",
        "A = X**3 + 3*X**2 - 54\n",
        "\n",
        "plt.figure()\n",
        "plt.scatter(3,0, color = 'red')\n",
        "plt.plot(X, A)\n",
        "plt .annotate( 'Acidez nula' ,( 3.4, -40))\n",
        "plt.xlabel('X')\n",
        "plt.ylabel('A')\n",
        "plt.grid()\n",
        "plt.show()"
      ],
      "metadata": {
        "id": "qlMRsoBsL4L_",
        "outputId": "8eba6286-296e-4fa2-e461-8cd41c0dd354",
        "colab": {
          "base_uri": "https://localhost:8080/",
          "height": 279
        }
      },
      "execution_count": 2,
      "outputs": [
        {
          "output_type": "display_data",
          "data": {
            "text/plain": [
              "<Figure size 432x288 with 1 Axes>"
            ],
            "image/png": "[encoded data removed]"
          },
          "metadata": {
            "needs_background": "light"
          }
        }
      ]
    },
    {
      "cell_type": "markdown",
      "source": [
        "3) Faça o gráfico de: f(x)= x-2 + 2x+1 -x-6\n",
        "\n",
        "Faça o gráfico com o x variando de-10 a 10.\n",
        "\n",
        "Mostre o menor valor de x tal que f(x)>0 e x>0."
      ],
      "metadata": {
        "id": "Ldx3zEOyNZiq"
      }
    },
    {
      "cell_type": "code",
      "source": [
        "X = np.arange(-10, 11, 1)\n",
        "F = abs(X-2) + abs(2*X+1) - X - 6\n",
        "\n",
        "plt.figure()\n",
        "plt.scatter(4, 1, color = 'green')\n",
        "plt.plot(X, F)\n",
        "plt.xlabel('x')\n",
        "plt.ylabel('F')\n",
        "plt.grid()\n",
        "plt.show()\n"
      ],
      "metadata": {
        "id": "g0svf64iOaSZ",
        "outputId": "2579f53b-a657-4396-ae24-55a5b2e8737a",
        "colab": {
          "base_uri": "https://localhost:8080/",
          "height": 279
        }
      },
      "execution_count": 4,
      "outputs": [
        {
          "output_type": "display_data",
          "data": {
            "text/plain": [
              "<Figure size 432x288 with 1 Axes>"
            ],
            "image/png": "[encoded data removed]"
          },
          "metadata": {
            "needs_background": "light"
          }
        }
      ]
    },
    {
      "cell_type": "code",
      "source": [
        "print(f'o menor valor de X tal que f(x)>0 e x>0 é {X[14]}')"
      ],
      "metadata": {
        "id": "OEbsGbsJPbdB",
        "outputId": "bd09c72d-bdce-4c60-8cf8-84709a55e233",
        "colab": {
          "base_uri": "https://localhost:8080/"
        }
      },
      "execution_count": 6,
      "outputs": [
        {
          "output_type": "stream",
          "name": "stdout",
          "text": [
            "o menor valor de X tal que f(x)>0 e x>0 é 4\n"
          ]
        }
      ]
    },
    {
      "cell_type": "markdown",
      "source": [
        "4) Mostre as raízes da função (i.e. os valores de x para os quais f(x)=0"
      ],
      "metadata": {
        "id": "wgUBVpsAP8p-"
      }
    },
    {
      "cell_type": "code",
      "source": [
        "X = np.arange(-2, 2.01, 0.01)\n",
        "F = X**2 - np.sin(0.784*X**2) - 2\n",
        "\n",
        "plt.figure()\n",
        "plt.scatter(1.67,0, color = 'black')\n",
        "plt.scatter(-1.67, 0, color = 'black')\n",
        "plt.plot(X, F)\n",
        "plt.xlabel('X')\n",
        "plt.ylabel('Y')\n",
        "plt.grid()\n",
        "plt.show()\n",
        "\n"
      ],
      "metadata": {
        "id": "Kp1rYpRFQQ3_",
        "outputId": "42798545-c359-4d95-80f9-02dec1af4019",
        "colab": {
          "base_uri": "https://localhost:8080/",
          "height": 279
        }
      },
      "execution_count": 7,
      "outputs": [
        {
          "output_type": "display_data",
          "data": {
            "text/plain": [
              "<Figure size 432x288 with 1 Axes>"
            ],
            "image/png": "[encoded data removed]"
          },
          "metadata": {
            "needs_background": "light"
          }
        }
      ]
    }
  ]
}
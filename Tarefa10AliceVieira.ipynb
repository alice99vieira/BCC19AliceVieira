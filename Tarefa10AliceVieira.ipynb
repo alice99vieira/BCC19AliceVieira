{
  "nbformat": 4,
  "nbformat_minor": 0,
  "metadata": {
    "colab": {
      "provenance": [],
      "authorship_tag": "ABX9TyPMOjiUTDWI1DHmw51IFqpg",
      "include_colab_link": true
    },
    "kernelspec": {
      "name": "python3",
      "display_name": "Python 3"
    },
    "language_info": {
      "name": "python"
    }
  },
  "cells": [
    {
      "cell_type": "markdown",
      "metadata": {
        "id": "view-in-github",
        "colab_type": "text"
      },
      "source": [
        "<a href=\"https://colab.research.google.com/github/alice99vieira/BCC19AliceVieira/blob/main/Tarefa10AliceVieira.ipynb\" target=\"_parent\"><img src=\"https://colab.research.google.com/assets/colab-badge.svg\" alt=\"Open In Colab\"/></a>"
      ]
    },
    {
      "cell_type": "markdown",
      "source": [
        "#Alice Vieira \n"
      ],
      "metadata": {
        "id": "tHzICVGuip-o"
      }
    },
    {
      "cell_type": "markdown",
      "source": [
        "\n",
        "1) Para este item você deverá usar o arquivo com todos os resultados do campeonato Brasileiro de futebol de 2018 (tabelaBrasileirao2018.csv encontrado na pasta aula5/dados) (dados obtidos desta e desta página da Wikipedia).\n",
        "\n",
        "Calcule (e mostre o resultado) a porcentagem de jogos que o time da casa (mandante) ganhou o jogo.\n",
        "\n",
        "Calcule (e mostre o resultado) a porcentagem de jogos que o time da casa (mandante) não perdeu o jogo."
      ],
      "metadata": {
        "id": "mNC8-3OviuQO"
      }
    },
    {
      "cell_type": "code",
      "source": [
        "import pandas as pd\n",
        "import numpy as np\n",
        "\n",
        "CB = pd.read_csv('https://raw.githubusercontent.com/alice99vieira/BasesComputacionais/bacd478ebcde398e853ef5c700168b98f105d3a3/aula5/dados/tabelaBrasileirao2018.csv')\n"
      ],
      "metadata": {
        "id": "j5zL49bugvAS"
      },
      "execution_count": null,
      "outputs": []
    },
    {
      "cell_type": "code",
      "source": [
        "CB['%VM'] = CB['Placar do Mandante'] > CB['Placar do Visitante']\n",
        "CB['%VM'].value_counts()"
      ],
      "metadata": {
        "id": "MnU8KphJi8rZ",
        "outputId": "f058b1cb-7f59-4a5d-e2d1-b620243da045",
        "colab": {
          "base_uri": "https://localhost:8080/"
        }
      },
      "execution_count": null,
      "outputs": [
        {
          "output_type": "execute_result",
          "data": {
            "text/plain": [
              "True     202\n",
              "False    178\n",
              "Name: %VM, dtype: int64"
            ]
          },
          "metadata": {},
          "execution_count": 8
        }
      ]
    },
    {
      "cell_type": "code",
      "source": [
        "PVM = (202/380)*100\n",
        "print(f\"A porcentagem de jogos que o time da casa (mandante) ganhou o jogo foi {PVM}%\")"
      ],
      "metadata": {
        "id": "rcXvlUq__jCK",
        "outputId": "d6836db9-2032-4943-f363-78a8fe638a3d",
        "colab": {
          "base_uri": "https://localhost:8080/"
        }
      },
      "execution_count": null,
      "outputs": [
        {
          "output_type": "stream",
          "name": "stdout",
          "text": [
            "A porcentagem de jogos que o time da casa (mandante) ganhou o jogo foi 53.1578947368421%\n"
          ]
        }
      ]
    },
    {
      "cell_type": "code",
      "source": [
        "CB['%VM'] = CB['Placar do Mandante'] >= CB['Placar do Visitante']\n",
        "CB['%VM'].value_counts()"
      ],
      "metadata": {
        "id": "GXO0ZF8d_-zk",
        "outputId": "9376f8e1-4438-4b42-e04e-60589b54d71b",
        "colab": {
          "base_uri": "https://localhost:8080/"
        }
      },
      "execution_count": null,
      "outputs": [
        {
          "output_type": "execute_result",
          "data": {
            "text/plain": [
              "True     312\n",
              "False     68\n",
              "Name: %VM, dtype: int64"
            ]
          },
          "metadata": {},
          "execution_count": 10
        }
      ]
    },
    {
      "cell_type": "code",
      "source": [
        "PNPM = (312/380)*100\n",
        "print(f\"A porcentagem de jogos que o time da casa (mandante) não perdeu o jogo foi {PNPM}%\")"
      ],
      "metadata": {
        "id": "tUFO787wAfiu",
        "outputId": "1c837074-411d-45f9-a6fe-baf385bd6e94",
        "colab": {
          "base_uri": "https://localhost:8080/"
        }
      },
      "execution_count": null,
      "outputs": [
        {
          "output_type": "stream",
          "name": "stdout",
          "text": [
            "A porcentagem de jogos que o time da casa (mandante) não perdeu o jogo foi 82.10526315789474%\n"
          ]
        }
      ]
    },
    {
      "cell_type": "markdown",
      "source": [
        "2) Para este item você deverá usar o arquivo com a taxa de inflação mensal (IGP-DI) no Brasil de fevereiro de 1944 a junho de 2019 (dados disponibilizados por Ipeadata).\n",
        "\n",
        "Faça um gráfico da taxa de inflação mensal em função do tempo.\n",
        "\n",
        "Mostre em que mês e ano e qual foi a maior taxa de inflação mensal medida neste período (fevereiro de 1944 a junho de 2019).\n",
        "\n",
        "Dica: para fazer o gráfico, note que um mês corresponde a um doze avos de ano. Para facilitar a criação do gráfico você pode criar uma outra coluna que corresponda ao ano adicionado da fração correspondente ao mês."
      ],
      "metadata": {
        "id": "iCfV1Tq8BKlu"
      }
    },
    {
      "cell_type": "code",
      "source": [
        "import pandas as pd\n",
        "import numpy as np\n",
        "IM = pd.read_csv('https://raw.githubusercontent.com/alice99vieira/BasesComputacionais/bacd478ebcde398e853ef5c700168b98f105d3a3/aula5/dados/inflacaoMensal.csv')"
      ],
      "metadata": {
        "id": "QnPEl0T_CKdo"
      },
      "execution_count": null,
      "outputs": []
    },
    {
      "cell_type": "code",
      "source": [
        "IM['AAFCM'] = IM['Ano'] + (IM['Mês']/12)\n",
        "IM"
      ],
      "metadata": {
        "id": "mCUREkc9Dr_l",
        "outputId": "f1cec16f-ac6b-4198-dfc6-5a11b1d6ffc4",
        "colab": {
          "base_uri": "https://localhost:8080/",
          "height": 424
        }
      },
      "execution_count": null,
      "outputs": [
        {
          "output_type": "execute_result",
          "data": {
            "text/plain": [
              "      Ano  Mês  Inflação        AAFCM\n",
              "0    1944    2      1.45  1944.166667\n",
              "1    1944    3      1.43  1944.250000\n",
              "2    1944    4      1.41  1944.333333\n",
              "3    1944    5      1.39  1944.416667\n",
              "4    1944    6      1.37  1944.500000\n",
              "..    ...  ...       ...          ...\n",
              "900  2019    2      1.25  2019.166667\n",
              "901  2019    3      1.07  2019.250000\n",
              "902  2019    4      0.90  2019.333333\n",
              "903  2019    5      0.40  2019.416667\n",
              "904  2019    6      0.63  2019.500000\n",
              "\n",
              "[905 rows x 4 columns]"
            ],
            "text/html": [
              "\n",
              "  <div id=\"df-a8b1c96c-3e18-4801-938b-2919732d0a25\">\n",
              "    <div class=\"colab-df-container\">\n",
              "      <div>\n",
              "<style scoped>\n",
              "    .dataframe tbody tr th:only-of-type {\n",
              "        vertical-align: middle;\n",
              "    }\n",
              "\n",
              "    .dataframe tbody tr th {\n",
              "        vertical-align: top;\n",
              "    }\n",
              "\n",
              "    .dataframe thead th {\n",
              "        text-align: right;\n",
              "    }\n",
              "</style>\n",
              "<table border=\"1\" class=\"dataframe\">\n",
              "  <thead>\n",
              "    <tr style=\"text-align: right;\">\n",
              "      <th></th>\n",
              "      <th>Ano</th>\n",
              "      <th>Mês</th>\n",
              "      <th>Inflação</th>\n",
              "      <th>AAFCM</th>\n",
              "    </tr>\n",
              "  </thead>\n",
              "  <tbody>\n",
              "    <tr>\n",
              "      <th>0</th>\n",
              "      <td>1944</td>\n",
              "      <td>2</td>\n",
              "      <td>1.45</td>\n",
              "      <td>1944.166667</td>\n",
              "    </tr>\n",
              "    <tr>\n",
              "      <th>1</th>\n",
              "      <td>1944</td>\n",
              "      <td>3</td>\n",
              "      <td>1.43</td>\n",
              "      <td>1944.250000</td>\n",
              "    </tr>\n",
              "    <tr>\n",
              "      <th>2</th>\n",
              "      <td>1944</td>\n",
              "      <td>4</td>\n",
              "      <td>1.41</td>\n",
              "      <td>1944.333333</td>\n",
              "    </tr>\n",
              "    <tr>\n",
              "      <th>3</th>\n",
              "      <td>1944</td>\n",
              "      <td>5</td>\n",
              "      <td>1.39</td>\n",
              "      <td>1944.416667</td>\n",
              "    </tr>\n",
              "    <tr>\n",
              "      <th>4</th>\n",
              "      <td>1944</td>\n",
              "      <td>6</td>\n",
              "      <td>1.37</td>\n",
              "      <td>1944.500000</td>\n",
              "    </tr>\n",
              "    <tr>\n",
              "      <th>...</th>\n",
              "      <td>...</td>\n",
              "      <td>...</td>\n",
              "      <td>...</td>\n",
              "      <td>...</td>\n",
              "    </tr>\n",
              "    <tr>\n",
              "      <th>900</th>\n",
              "      <td>2019</td>\n",
              "      <td>2</td>\n",
              "      <td>1.25</td>\n",
              "      <td>2019.166667</td>\n",
              "    </tr>\n",
              "    <tr>\n",
              "      <th>901</th>\n",
              "      <td>2019</td>\n",
              "      <td>3</td>\n",
              "      <td>1.07</td>\n",
              "      <td>2019.250000</td>\n",
              "    </tr>\n",
              "    <tr>\n",
              "      <th>902</th>\n",
              "      <td>2019</td>\n",
              "      <td>4</td>\n",
              "      <td>0.90</td>\n",
              "      <td>2019.333333</td>\n",
              "    </tr>\n",
              "    <tr>\n",
              "      <th>903</th>\n",
              "      <td>2019</td>\n",
              "      <td>5</td>\n",
              "      <td>0.40</td>\n",
              "      <td>2019.416667</td>\n",
              "    </tr>\n",
              "    <tr>\n",
              "      <th>904</th>\n",
              "      <td>2019</td>\n",
              "      <td>6</td>\n",
              "      <td>0.63</td>\n",
              "      <td>2019.500000</td>\n",
              "    </tr>\n",
              "  </tbody>\n",
              "</table>\n",
              "<p>905 rows × 4 columns</p>\n",
              "</div>\n",
              "      <button class=\"colab-df-convert\" onclick=\"convertToInteractive('df-a8b1c96c-3e18-4801-938b-2919732d0a25')\"\n",
              "              title=\"Convert this dataframe to an interactive table.\"\n",
              "              style=\"display:none;\">\n",
              "        \n",
              "  <svg xmlns=\"http://www.w3.org/2000/svg\" height=\"24px\"viewBox=\"0 0 24 24\"\n",
              "       width=\"24px\">\n",
              "    <path d=\"M0 0h24v24H0V0z\" fill=\"none\"/>\n",
              "    <path d=\"M18.56 5.44l.94 2.06.94-2.06 2.06-.94-2.06-.94-.94-2.06-.94 2.06-2.06.94zm-11 1L8.5 8.5l.94-2.06 2.06-.94-2.06-.94L8.5 2.5l-.94 2.06-2.06.94zm10 10l.94 2.06.94-2.06 2.06-.94-2.06-.94-.94-2.06-.94 2.06-2.06.94z\"/><path d=\"M17.41 7.96l-1.37-1.37c-.4-.4-.92-.59-1.43-.59-.52 0-1.04.2-1.43.59L10.3 9.45l-7.72 7.72c-.78.78-.78 2.05 0 2.83L4 21.41c.39.39.9.59 1.41.59.51 0 1.02-.2 1.41-.59l7.78-7.78 2.81-2.81c.8-.78.8-2.07 0-2.86zM5.41 20L4 18.59l7.72-7.72 1.47 1.35L5.41 20z\"/>\n",
              "  </svg>\n",
              "      </button>\n",
              "      \n",
              "  <style>\n",
              "    .colab-df-container {\n",
              "      display:flex;\n",
              "      flex-wrap:wrap;\n",
              "      gap: 12px;\n",
              "    }\n",
              "\n",
              "    .colab-df-convert {\n",
              "      background-color: #E8F0FE;\n",
              "      border: none;\n",
              "      border-radius: 50%;\n",
              "      cursor: pointer;\n",
              "      display: none;\n",
              "      fill: #1967D2;\n",
              "      height: 32px;\n",
              "      padding: 0 0 0 0;\n",
              "      width: 32px;\n",
              "    }\n",
              "\n",
              "    .colab-df-convert:hover {\n",
              "      background-color: #E2EBFA;\n",
              "      box-shadow: 0px 1px 2px rgba(60, 64, 67, 0.3), 0px 1px 3px 1px rgba(60, 64, 67, 0.15);\n",
              "      fill: #174EA6;\n",
              "    }\n",
              "\n",
              "    [theme=dark] .colab-df-convert {\n",
              "      background-color: #3B4455;\n",
              "      fill: #D2E3FC;\n",
              "    }\n",
              "\n",
              "    [theme=dark] .colab-df-convert:hover {\n",
              "      background-color: #434B5C;\n",
              "      box-shadow: 0px 1px 3px 1px rgba(0, 0, 0, 0.15);\n",
              "      filter: drop-shadow(0px 1px 2px rgba(0, 0, 0, 0.3));\n",
              "      fill: #FFFFFF;\n",
              "    }\n",
              "  </style>\n",
              "\n",
              "      <script>\n",
              "        const buttonEl =\n",
              "          document.querySelector('#df-a8b1c96c-3e18-4801-938b-2919732d0a25 button.colab-df-convert');\n",
              "        buttonEl.style.display =\n",
              "          google.colab.kernel.accessAllowed ? 'block' : 'none';\n",
              "\n",
              "        async function convertToInteractive(key) {\n",
              "          const element = document.querySelector('#df-a8b1c96c-3e18-4801-938b-2919732d0a25');\n",
              "          const dataTable =\n",
              "            await google.colab.kernel.invokeFunction('convertToInteractive',\n",
              "                                                     [key], {});\n",
              "          if (!dataTable) return;\n",
              "\n",
              "          const docLinkHtml = 'Like what you see? Visit the ' +\n",
              "            '<a target=\"_blank\" href=https://colab.research.google.com/notebooks/data_table.ipynb>data table notebook</a>'\n",
              "            + ' to learn more about interactive tables.';\n",
              "          element.innerHTML = '';\n",
              "          dataTable['output_type'] = 'display_data';\n",
              "          await google.colab.output.renderOutput(dataTable, element);\n",
              "          const docLink = document.createElement('div');\n",
              "          docLink.innerHTML = docLinkHtml;\n",
              "          element.appendChild(docLink);\n",
              "        }\n",
              "      </script>\n",
              "    </div>\n",
              "  </div>\n",
              "  "
            ]
          },
          "metadata": {},
          "execution_count": 14
        }
      ]
    },
    {
      "cell_type": "code",
      "source": [
        "import matplotlib.pyplot as plt\n",
        "\n",
        "plt.figure(figsize=(14, 7))\n",
        "plt.plot(IM['AAFCM'], IM['Inflação'], marker = 'o', linestyle = '',\n",
        "         color = 'red', markersize = 7)\n",
        "plt.grid()\n",
        "plt.xlabel('Anos')\n",
        "plt.ylabel('São Paulo')\n",
        "plt.show()"
      ],
      "metadata": {
        "id": "FpD1p8PFECtQ",
        "outputId": "c6a96215-b76f-4b1c-9786-2b89a4530a08",
        "colab": {
          "base_uri": "https://localhost:8080/",
          "height": 442
        }
      },
      "execution_count": null,
      "outputs": [
        {
          "output_type": "display_data",
          "data": {
            "text/plain": [
              "<Figure size 1008x504 with 1 Axes>"
            ],
            "image/png": "[encoded data removed]"
          },
          "metadata": {
            "needs_background": "light"
          }
        }
      ]
    },
    {
      "cell_type": "code",
      "source": [
        "IM.sort_values(['Inflação'])"
      ],
      "metadata": {
        "id": "y1nZfOIwE9Ou",
        "outputId": "81096a30-a96a-4755-dab9-c0e5543c9531",
        "colab": {
          "base_uri": "https://localhost:8080/",
          "height": 424
        }
      },
      "execution_count": null,
      "outputs": [
        {
          "output_type": "execute_result",
          "data": {
            "text/plain": [
              "      Ano  Mês  Inflação        AAFCM\n",
              "38   1947    4     -2.59  1947.333333\n",
              "89   1951    7     -2.40  1951.583333\n",
              "73   1950    3     -2.16  1950.250000\n",
              "41   1947    7     -1.80  1947.583333\n",
              "878  2017    4     -1.24  2017.333333\n",
              "..    ...  ...       ...          ...\n",
              "604  1994    6     46.58  1994.500000\n",
              "550  1989   12     49.39  1990.000000\n",
              "552  1990    2     71.68  1990.166667\n",
              "551  1990    1     71.90  1990.083333\n",
              "553  1990    3     81.32  1990.250000\n",
              "\n",
              "[905 rows x 4 columns]"
            ],
            "text/html": [
              "\n",
              "  <div id=\"df-d7095c33-b959-442f-92d8-5d8299c4829e\">\n",
              "    <div class=\"colab-df-container\">\n",
              "      <div>\n",
              "<style scoped>\n",
              "    .dataframe tbody tr th:only-of-type {\n",
              "        vertical-align: middle;\n",
              "    }\n",
              "\n",
              "    .dataframe tbody tr th {\n",
              "        vertical-align: top;\n",
              "    }\n",
              "\n",
              "    .dataframe thead th {\n",
              "        text-align: right;\n",
              "    }\n",
              "</style>\n",
              "<table border=\"1\" class=\"dataframe\">\n",
              "  <thead>\n",
              "    <tr style=\"text-align: right;\">\n",
              "      <th></th>\n",
              "      <th>Ano</th>\n",
              "      <th>Mês</th>\n",
              "      <th>Inflação</th>\n",
              "      <th>AAFCM</th>\n",
              "    </tr>\n",
              "  </thead>\n",
              "  <tbody>\n",
              "    <tr>\n",
              "      <th>38</th>\n",
              "      <td>1947</td>\n",
              "      <td>4</td>\n",
              "      <td>-2.59</td>\n",
              "      <td>1947.333333</td>\n",
              "    </tr>\n",
              "    <tr>\n",
              "      <th>89</th>\n",
              "      <td>1951</td>\n",
              "      <td>7</td>\n",
              "      <td>-2.40</td>\n",
              "      <td>1951.583333</td>\n",
              "    </tr>\n",
              "    <tr>\n",
              "      <th>73</th>\n",
              "      <td>1950</td>\n",
              "      <td>3</td>\n",
              "      <td>-2.16</td>\n",
              "      <td>1950.250000</td>\n",
              "    </tr>\n",
              "    <tr>\n",
              "      <th>41</th>\n",
              "      <td>1947</td>\n",
              "      <td>7</td>\n",
              "      <td>-1.80</td>\n",
              "      <td>1947.583333</td>\n",
              "    </tr>\n",
              "    <tr>\n",
              "      <th>878</th>\n",
              "      <td>2017</td>\n",
              "      <td>4</td>\n",
              "      <td>-1.24</td>\n",
              "      <td>2017.333333</td>\n",
              "    </tr>\n",
              "    <tr>\n",
              "      <th>...</th>\n",
              "      <td>...</td>\n",
              "      <td>...</td>\n",
              "      <td>...</td>\n",
              "      <td>...</td>\n",
              "    </tr>\n",
              "    <tr>\n",
              "      <th>604</th>\n",
              "      <td>1994</td>\n",
              "      <td>6</td>\n",
              "      <td>46.58</td>\n",
              "      <td>1994.500000</td>\n",
              "    </tr>\n",
              "    <tr>\n",
              "      <th>550</th>\n",
              "      <td>1989</td>\n",
              "      <td>12</td>\n",
              "      <td>49.39</td>\n",
              "      <td>1990.000000</td>\n",
              "    </tr>\n",
              "    <tr>\n",
              "      <th>552</th>\n",
              "      <td>1990</td>\n",
              "      <td>2</td>\n",
              "      <td>71.68</td>\n",
              "      <td>1990.166667</td>\n",
              "    </tr>\n",
              "    <tr>\n",
              "      <th>551</th>\n",
              "      <td>1990</td>\n",
              "      <td>1</td>\n",
              "      <td>71.90</td>\n",
              "      <td>1990.083333</td>\n",
              "    </tr>\n",
              "    <tr>\n",
              "      <th>553</th>\n",
              "      <td>1990</td>\n",
              "      <td>3</td>\n",
              "      <td>81.32</td>\n",
              "      <td>1990.250000</td>\n",
              "    </tr>\n",
              "  </tbody>\n",
              "</table>\n",
              "<p>905 rows × 4 columns</p>\n",
              "</div>\n",
              "      <button class=\"colab-df-convert\" onclick=\"convertToInteractive('df-d7095c33-b959-442f-92d8-5d8299c4829e')\"\n",
              "              title=\"Convert this dataframe to an interactive table.\"\n",
              "              style=\"display:none;\">\n",
              "        \n",
              "  <svg xmlns=\"http://www.w3.org/2000/svg\" height=\"24px\"viewBox=\"0 0 24 24\"\n",
              "       width=\"24px\">\n",
              "    <path d=\"M0 0h24v24H0V0z\" fill=\"none\"/>\n",
              "    <path d=\"M18.56 5.44l.94 2.06.94-2.06 2.06-.94-2.06-.94-.94-2.06-.94 2.06-2.06.94zm-11 1L8.5 8.5l.94-2.06 2.06-.94-2.06-.94L8.5 2.5l-.94 2.06-2.06.94zm10 10l.94 2.06.94-2.06 2.06-.94-2.06-.94-.94-2.06-.94 2.06-2.06.94z\"/><path d=\"M17.41 7.96l-1.37-1.37c-.4-.4-.92-.59-1.43-.59-.52 0-1.04.2-1.43.59L10.3 9.45l-7.72 7.72c-.78.78-.78 2.05 0 2.83L4 21.41c.39.39.9.59 1.41.59.51 0 1.02-.2 1.41-.59l7.78-7.78 2.81-2.81c.8-.78.8-2.07 0-2.86zM5.41 20L4 18.59l7.72-7.72 1.47 1.35L5.41 20z\"/>\n",
              "  </svg>\n",
              "      </button>\n",
              "      \n",
              "  <style>\n",
              "    .colab-df-container {\n",
              "      display:flex;\n",
              "      flex-wrap:wrap;\n",
              "      gap: 12px;\n",
              "    }\n",
              "\n",
              "    .colab-df-convert {\n",
              "      background-color: #E8F0FE;\n",
              "      border: none;\n",
              "      border-radius: 50%;\n",
              "      cursor: pointer;\n",
              "      display: none;\n",
              "      fill: #1967D2;\n",
              "      height: 32px;\n",
              "      padding: 0 0 0 0;\n",
              "      width: 32px;\n",
              "    }\n",
              "\n",
              "    .colab-df-convert:hover {\n",
              "      background-color: #E2EBFA;\n",
              "      box-shadow: 0px 1px 2px rgba(60, 64, 67, 0.3), 0px 1px 3px 1px rgba(60, 64, 67, 0.15);\n",
              "      fill: #174EA6;\n",
              "    }\n",
              "\n",
              "    [theme=dark] .colab-df-convert {\n",
              "      background-color: #3B4455;\n",
              "      fill: #D2E3FC;\n",
              "    }\n",
              "\n",
              "    [theme=dark] .colab-df-convert:hover {\n",
              "      background-color: #434B5C;\n",
              "      box-shadow: 0px 1px 3px 1px rgba(0, 0, 0, 0.15);\n",
              "      filter: drop-shadow(0px 1px 2px rgba(0, 0, 0, 0.3));\n",
              "      fill: #FFFFFF;\n",
              "    }\n",
              "  </style>\n",
              "\n",
              "      <script>\n",
              "        const buttonEl =\n",
              "          document.querySelector('#df-d7095c33-b959-442f-92d8-5d8299c4829e button.colab-df-convert');\n",
              "        buttonEl.style.display =\n",
              "          google.colab.kernel.accessAllowed ? 'block' : 'none';\n",
              "\n",
              "        async function convertToInteractive(key) {\n",
              "          const element = document.querySelector('#df-d7095c33-b959-442f-92d8-5d8299c4829e');\n",
              "          const dataTable =\n",
              "            await google.colab.kernel.invokeFunction('convertToInteractive',\n",
              "                                                     [key], {});\n",
              "          if (!dataTable) return;\n",
              "\n",
              "          const docLinkHtml = 'Like what you see? Visit the ' +\n",
              "            '<a target=\"_blank\" href=https://colab.research.google.com/notebooks/data_table.ipynb>data table notebook</a>'\n",
              "            + ' to learn more about interactive tables.';\n",
              "          element.innerHTML = '';\n",
              "          dataTable['output_type'] = 'display_data';\n",
              "          await google.colab.output.renderOutput(dataTable, element);\n",
              "          const docLink = document.createElement('div');\n",
              "          docLink.innerHTML = docLinkHtml;\n",
              "          element.appendChild(docLink);\n",
              "        }\n",
              "      </script>\n",
              "    </div>\n",
              "  </div>\n",
              "  "
            ]
          },
          "metadata": {},
          "execution_count": 16
        }
      ]
    },
    {
      "cell_type": "code",
      "source": [
        "print(f\" O mês, ano e a maior taxa de inflação mensal medida neste período (fevereiro de 1944 a junho de 2019\"), foi Março de {IM['Ano'].at[553]} com uma taxa de {IM['Inflação'].at[553]}.\")\n"
      ],
      "metadata": {
        "id": "0Eeo1ehNFSC9",
        "outputId": "e9cce92a-6a01-418d-ec38-485136645903",
        "colab": {
          "base_uri": "https://localhost:8080/",
          "height": 148
        }
      },
      "execution_count": 1,
      "outputs": [
        {
          "output_type": "error",
          "ename": "SyntaxError",
          "evalue": "ignored",
          "traceback": [
            "\u001b[0;36m  File \u001b[0;32m\"<ipython-input-1-ab43f1afdb2b>\"\u001b[0;36m, line \u001b[0;32m1\u001b[0m\n\u001b[0;31m    print(f\" O mês, ano e a maior taxa de inflação mensal medida neste período (fevereiro de 1944 a junho de 2019\"), foi Março de {IM['Ano'].at[553]} com uma taxa de {IM['Inflação'].at[553]}.\")\u001b[0m\n\u001b[0m                                                                                                                             ^\u001b[0m\n\u001b[0;31mSyntaxError\u001b[0m\u001b[0;31m:\u001b[0m invalid syntax\n"
          ]
        }
      ]
    },
    {
      "cell_type": "markdown",
      "source": [
        "3) Para este item você pode usar esse histórico de visualização do Netflix ou, se você tiver acesso ao Netflix, usar o seu histórico (após entrar com a sua senha, role até o final da página e clique em \"Baixar tudo\").\n",
        "\n",
        "Mostre quais são os 10 programas mais vistos.\n",
        "\n",
        "Em qual mês do ano foi assistido mais programas?"
      ],
      "metadata": {
        "id": "R9gwOmATHODW"
      }
    },
    {
      "cell_type": "code",
      "source": [
        "import pandas as pd\n",
        "import numpy as np\n",
        "data = pd. read_csv('https://raw.githubusercontent.com/alice99vieira/BasesComputacionais/bacd478ebcde398e853ef5c700168b98f105d3a3/aula5/dados/netflix.csv')\n",
        "data['Categoria'] = 'Filme'  \n",
        "data['Categoria'][data['Title'].str.contains(\": Temporada|: Stranger|: Parte\")] = 'Série'  \n",
        "data['Programa'] = data['Title']  \n",
        "data[['Programa','Episódio']] = data[data['Categoria']=='Série']['Title'].str.split(pat = ': Temporada|: Stranger Things|: Parte', expand = True, n = 1)   \n",
        "data.loc[data['Categoria']=='Filme', 'Programa'] = data.loc[data['Categoria']=='Filme', 'Title']  \n",
        "data = data.drop(columns = 'Title')\n",
        "data"
      ],
      "metadata": {
        "id": "VxImge-OHXNG",
        "outputId": "1d15b759-e9a0-4ee1-a579-41b9e2aaa127",
        "colab": {
          "base_uri": "https://localhost:8080/",
          "height": 424
        }
      },
      "execution_count": null,
      "outputs": [
        {
          "output_type": "execute_result",
          "data": {
            "text/plain": [
              "           Date Categoria                             Programa  \\\n",
              "0    15/07/2019     Série                      Stranger Things   \n",
              "1    14/07/2019     Série                   Star Trek: Voyager   \n",
              "2    14/07/2019     Série                   Star Trek: Voyager   \n",
              "3    14/07/2019     Série                           Aggretsuko   \n",
              "4    14/07/2019     Série                           Aggretsuko   \n",
              "..          ...       ...                                  ...   \n",
              "694  06/07/2013     Filme                        Os miseráveis   \n",
              "695  06/07/2013     Série  Além da imaginação (Série original)   \n",
              "696  05/07/2013     Série  Além da imaginação (Série original)   \n",
              "697  04/07/2013     Filme                        Jogos Vorazes   \n",
              "698  04/07/2013     Série                            Arquivo X   \n",
              "\n",
              "                                     Episódio  \n",
              "0     3: Capítulo um: Está me ouvindo, Suzie?  \n",
              "1                                 6: Virtuoso  \n",
              "2                      6: Num piscar de olhos  \n",
              "3                         2: Vida maravilhosa  \n",
              "4                                2: Ela sonha  \n",
              "..                                        ...  \n",
              "694                                       NaN  \n",
              "695                     1: One for the Angels  \n",
              "696                    1: Where Is Everybody?  \n",
              "697                                       NaN  \n",
              "698                                 1: Piloto  \n",
              "\n",
              "[699 rows x 4 columns]"
            ],
            "text/html": [
              "\n",
              "  <div id=\"df-f68c3ad6-47e9-43cc-8e30-74e66914ba4b\">\n",
              "    <div class=\"colab-df-container\">\n",
              "      <div>\n",
              "<style scoped>\n",
              "    .dataframe tbody tr th:only-of-type {\n",
              "        vertical-align: middle;\n",
              "    }\n",
              "\n",
              "    .dataframe tbody tr th {\n",
              "        vertical-align: top;\n",
              "    }\n",
              "\n",
              "    .dataframe thead th {\n",
              "        text-align: right;\n",
              "    }\n",
              "</style>\n",
              "<table border=\"1\" class=\"dataframe\">\n",
              "  <thead>\n",
              "    <tr style=\"text-align: right;\">\n",
              "      <th></th>\n",
              "      <th>Date</th>\n",
              "      <th>Categoria</th>\n",
              "      <th>Programa</th>\n",
              "      <th>Episódio</th>\n",
              "    </tr>\n",
              "  </thead>\n",
              "  <tbody>\n",
              "    <tr>\n",
              "      <th>0</th>\n",
              "      <td>15/07/2019</td>\n",
              "      <td>Série</td>\n",
              "      <td>Stranger Things</td>\n",
              "      <td>3: Capítulo um: Está me ouvindo, Suzie?</td>\n",
              "    </tr>\n",
              "    <tr>\n",
              "      <th>1</th>\n",
              "      <td>14/07/2019</td>\n",
              "      <td>Série</td>\n",
              "      <td>Star Trek: Voyager</td>\n",
              "      <td>6: Virtuoso</td>\n",
              "    </tr>\n",
              "    <tr>\n",
              "      <th>2</th>\n",
              "      <td>14/07/2019</td>\n",
              "      <td>Série</td>\n",
              "      <td>Star Trek: Voyager</td>\n",
              "      <td>6: Num piscar de olhos</td>\n",
              "    </tr>\n",
              "    <tr>\n",
              "      <th>3</th>\n",
              "      <td>14/07/2019</td>\n",
              "      <td>Série</td>\n",
              "      <td>Aggretsuko</td>\n",
              "      <td>2: Vida maravilhosa</td>\n",
              "    </tr>\n",
              "    <tr>\n",
              "      <th>4</th>\n",
              "      <td>14/07/2019</td>\n",
              "      <td>Série</td>\n",
              "      <td>Aggretsuko</td>\n",
              "      <td>2: Ela sonha</td>\n",
              "    </tr>\n",
              "    <tr>\n",
              "      <th>...</th>\n",
              "      <td>...</td>\n",
              "      <td>...</td>\n",
              "      <td>...</td>\n",
              "      <td>...</td>\n",
              "    </tr>\n",
              "    <tr>\n",
              "      <th>694</th>\n",
              "      <td>06/07/2013</td>\n",
              "      <td>Filme</td>\n",
              "      <td>Os miseráveis</td>\n",
              "      <td>NaN</td>\n",
              "    </tr>\n",
              "    <tr>\n",
              "      <th>695</th>\n",
              "      <td>06/07/2013</td>\n",
              "      <td>Série</td>\n",
              "      <td>Além da imaginação (Série original)</td>\n",
              "      <td>1: One for the Angels</td>\n",
              "    </tr>\n",
              "    <tr>\n",
              "      <th>696</th>\n",
              "      <td>05/07/2013</td>\n",
              "      <td>Série</td>\n",
              "      <td>Além da imaginação (Série original)</td>\n",
              "      <td>1: Where Is Everybody?</td>\n",
              "    </tr>\n",
              "    <tr>\n",
              "      <th>697</th>\n",
              "      <td>04/07/2013</td>\n",
              "      <td>Filme</td>\n",
              "      <td>Jogos Vorazes</td>\n",
              "      <td>NaN</td>\n",
              "    </tr>\n",
              "    <tr>\n",
              "      <th>698</th>\n",
              "      <td>04/07/2013</td>\n",
              "      <td>Série</td>\n",
              "      <td>Arquivo X</td>\n",
              "      <td>1: Piloto</td>\n",
              "    </tr>\n",
              "  </tbody>\n",
              "</table>\n",
              "<p>699 rows × 4 columns</p>\n",
              "</div>\n",
              "      <button class=\"colab-df-convert\" onclick=\"convertToInteractive('df-f68c3ad6-47e9-43cc-8e30-74e66914ba4b')\"\n",
              "              title=\"Convert this dataframe to an interactive table.\"\n",
              "              style=\"display:none;\">\n",
              "        \n",
              "  <svg xmlns=\"http://www.w3.org/2000/svg\" height=\"24px\"viewBox=\"0 0 24 24\"\n",
              "       width=\"24px\">\n",
              "    <path d=\"M0 0h24v24H0V0z\" fill=\"none\"/>\n",
              "    <path d=\"M18.56 5.44l.94 2.06.94-2.06 2.06-.94-2.06-.94-.94-2.06-.94 2.06-2.06.94zm-11 1L8.5 8.5l.94-2.06 2.06-.94-2.06-.94L8.5 2.5l-.94 2.06-2.06.94zm10 10l.94 2.06.94-2.06 2.06-.94-2.06-.94-.94-2.06-.94 2.06-2.06.94z\"/><path d=\"M17.41 7.96l-1.37-1.37c-.4-.4-.92-.59-1.43-.59-.52 0-1.04.2-1.43.59L10.3 9.45l-7.72 7.72c-.78.78-.78 2.05 0 2.83L4 21.41c.39.39.9.59 1.41.59.51 0 1.02-.2 1.41-.59l7.78-7.78 2.81-2.81c.8-.78.8-2.07 0-2.86zM5.41 20L4 18.59l7.72-7.72 1.47 1.35L5.41 20z\"/>\n",
              "  </svg>\n",
              "      </button>\n",
              "      \n",
              "  <style>\n",
              "    .colab-df-container {\n",
              "      display:flex;\n",
              "      flex-wrap:wrap;\n",
              "      gap: 12px;\n",
              "    }\n",
              "\n",
              "    .colab-df-convert {\n",
              "      background-color: #E8F0FE;\n",
              "      border: none;\n",
              "      border-radius: 50%;\n",
              "      cursor: pointer;\n",
              "      display: none;\n",
              "      fill: #1967D2;\n",
              "      height: 32px;\n",
              "      padding: 0 0 0 0;\n",
              "      width: 32px;\n",
              "    }\n",
              "\n",
              "    .colab-df-convert:hover {\n",
              "      background-color: #E2EBFA;\n",
              "      box-shadow: 0px 1px 2px rgba(60, 64, 67, 0.3), 0px 1px 3px 1px rgba(60, 64, 67, 0.15);\n",
              "      fill: #174EA6;\n",
              "    }\n",
              "\n",
              "    [theme=dark] .colab-df-convert {\n",
              "      background-color: #3B4455;\n",
              "      fill: #D2E3FC;\n",
              "    }\n",
              "\n",
              "    [theme=dark] .colab-df-convert:hover {\n",
              "      background-color: #434B5C;\n",
              "      box-shadow: 0px 1px 3px 1px rgba(0, 0, 0, 0.15);\n",
              "      filter: drop-shadow(0px 1px 2px rgba(0, 0, 0, 0.3));\n",
              "      fill: #FFFFFF;\n",
              "    }\n",
              "  </style>\n",
              "\n",
              "      <script>\n",
              "        const buttonEl =\n",
              "          document.querySelector('#df-f68c3ad6-47e9-43cc-8e30-74e66914ba4b button.colab-df-convert');\n",
              "        buttonEl.style.display =\n",
              "          google.colab.kernel.accessAllowed ? 'block' : 'none';\n",
              "\n",
              "        async function convertToInteractive(key) {\n",
              "          const element = document.querySelector('#df-f68c3ad6-47e9-43cc-8e30-74e66914ba4b');\n",
              "          const dataTable =\n",
              "            await google.colab.kernel.invokeFunction('convertToInteractive',\n",
              "                                                     [key], {});\n",
              "          if (!dataTable) return;\n",
              "\n",
              "          const docLinkHtml = 'Like what you see? Visit the ' +\n",
              "            '<a target=\"_blank\" href=https://colab.research.google.com/notebooks/data_table.ipynb>data table notebook</a>'\n",
              "            + ' to learn more about interactive tables.';\n",
              "          element.innerHTML = '';\n",
              "          dataTable['output_type'] = 'display_data';\n",
              "          await google.colab.output.renderOutput(dataTable, element);\n",
              "          const docLink = document.createElement('div');\n",
              "          docLink.innerHTML = docLinkHtml;\n",
              "          element.appendChild(docLink);\n",
              "        }\n",
              "      </script>\n",
              "    </div>\n",
              "  </div>\n",
              "  "
            ]
          },
          "metadata": {},
          "execution_count": 17
        }
      ]
    },
    {
      "cell_type": "code",
      "source": [
        "data['Programa'].value_counts().head(10)"
      ],
      "metadata": {
        "id": "CUM_gjfdIJt5",
        "outputId": "429912c5-7d44-4327-bd5b-87bbc4d30798",
        "colab": {
          "base_uri": "https://localhost:8080/"
        }
      },
      "execution_count": null,
      "outputs": [
        {
          "output_type": "execute_result",
          "data": {
            "text/plain": [
              "House of Cards                           73\n",
              "Star Trek: Enterprise                    60\n",
              "Jornada nas Estrelas: A nova geração     43\n",
              "Jornada nas Estrelas: Deep Space Nine    39\n",
              "Jornada nas estrelas                     33\n",
              "Star Trek: Discovery                     29\n",
              "Downton Abbey                            25\n",
              "Era uma vez                              23\n",
              "Aggretsuko                               20\n",
              "The Crown                                19\n",
              "Name: Programa, dtype: int64"
            ]
          },
          "metadata": {},
          "execution_count": 19
        }
      ]
    },
    {
      "cell_type": "code",
      "source": [
        "data['Date'] = pd.to_datetime(data['Date'], format = '%d/%m/%Y')\n"
      ],
      "metadata": {
        "id": "dCl0JNP4Ibix"
      },
      "execution_count": null,
      "outputs": []
    },
    {
      "cell_type": "code",
      "source": [
        "data = data.sort_values(['Date', 'Programa'])\n",
        "data"
      ],
      "metadata": {
        "id": "40iMYAYzIzaA",
        "outputId": "9cb127b5-e6a4-4614-f0e0-666a0730bf72",
        "colab": {
          "base_uri": "https://localhost:8080/",
          "height": 424
        }
      },
      "execution_count": null,
      "outputs": [
        {
          "output_type": "execute_result",
          "data": {
            "text/plain": [
              "          Date Categoria                             Programa  \\\n",
              "698 2013-07-04     Série                            Arquivo X   \n",
              "697 2013-07-04     Filme                        Jogos Vorazes   \n",
              "696 2013-07-05     Série  Além da imaginação (Série original)   \n",
              "695 2013-07-06     Série  Além da imaginação (Série original)   \n",
              "694 2013-07-06     Filme                        Os miseráveis   \n",
              "..         ...       ...                                  ...   \n",
              "5   2019-07-14     Série                           Aggretsuko   \n",
              "6   2019-07-14     Série                           Aggretsuko   \n",
              "1   2019-07-14     Série                   Star Trek: Voyager   \n",
              "2   2019-07-14     Série                   Star Trek: Voyager   \n",
              "0   2019-07-15     Série                      Stranger Things   \n",
              "\n",
              "                                     Episódio  \n",
              "698                                 1: Piloto  \n",
              "697                                       NaN  \n",
              "696                    1: Where Is Everybody?  \n",
              "695                     1: One for the Angels  \n",
              "694                                       NaN  \n",
              "..                                        ...  \n",
              "5                2: Ele mora acima das nuvens  \n",
              "6                   2: Afeição cada vez maior  \n",
              "1                                 6: Virtuoso  \n",
              "2                      6: Num piscar de olhos  \n",
              "0     3: Capítulo um: Está me ouvindo, Suzie?  \n",
              "\n",
              "[699 rows x 4 columns]"
            ],
            "text/html": [
              "\n",
              "  <div id=\"df-6b954dbe-b664-46b3-bbc9-4271a839c95f\">\n",
              "    <div class=\"colab-df-container\">\n",
              "      <div>\n",
              "<style scoped>\n",
              "    .dataframe tbody tr th:only-of-type {\n",
              "        vertical-align: middle;\n",
              "    }\n",
              "\n",
              "    .dataframe tbody tr th {\n",
              "        vertical-align: top;\n",
              "    }\n",
              "\n",
              "    .dataframe thead th {\n",
              "        text-align: right;\n",
              "    }\n",
              "</style>\n",
              "<table border=\"1\" class=\"dataframe\">\n",
              "  <thead>\n",
              "    <tr style=\"text-align: right;\">\n",
              "      <th></th>\n",
              "      <th>Date</th>\n",
              "      <th>Categoria</th>\n",
              "      <th>Programa</th>\n",
              "      <th>Episódio</th>\n",
              "    </tr>\n",
              "  </thead>\n",
              "  <tbody>\n",
              "    <tr>\n",
              "      <th>698</th>\n",
              "      <td>2013-07-04</td>\n",
              "      <td>Série</td>\n",
              "      <td>Arquivo X</td>\n",
              "      <td>1: Piloto</td>\n",
              "    </tr>\n",
              "    <tr>\n",
              "      <th>697</th>\n",
              "      <td>2013-07-04</td>\n",
              "      <td>Filme</td>\n",
              "      <td>Jogos Vorazes</td>\n",
              "      <td>NaN</td>\n",
              "    </tr>\n",
              "    <tr>\n",
              "      <th>696</th>\n",
              "      <td>2013-07-05</td>\n",
              "      <td>Série</td>\n",
              "      <td>Além da imaginação (Série original)</td>\n",
              "      <td>1: Where Is Everybody?</td>\n",
              "    </tr>\n",
              "    <tr>\n",
              "      <th>695</th>\n",
              "      <td>2013-07-06</td>\n",
              "      <td>Série</td>\n",
              "      <td>Além da imaginação (Série original)</td>\n",
              "      <td>1: One for the Angels</td>\n",
              "    </tr>\n",
              "    <tr>\n",
              "      <th>694</th>\n",
              "      <td>2013-07-06</td>\n",
              "      <td>Filme</td>\n",
              "      <td>Os miseráveis</td>\n",
              "      <td>NaN</td>\n",
              "    </tr>\n",
              "    <tr>\n",
              "      <th>...</th>\n",
              "      <td>...</td>\n",
              "      <td>...</td>\n",
              "      <td>...</td>\n",
              "      <td>...</td>\n",
              "    </tr>\n",
              "    <tr>\n",
              "      <th>5</th>\n",
              "      <td>2019-07-14</td>\n",
              "      <td>Série</td>\n",
              "      <td>Aggretsuko</td>\n",
              "      <td>2: Ele mora acima das nuvens</td>\n",
              "    </tr>\n",
              "    <tr>\n",
              "      <th>6</th>\n",
              "      <td>2019-07-14</td>\n",
              "      <td>Série</td>\n",
              "      <td>Aggretsuko</td>\n",
              "      <td>2: Afeição cada vez maior</td>\n",
              "    </tr>\n",
              "    <tr>\n",
              "      <th>1</th>\n",
              "      <td>2019-07-14</td>\n",
              "      <td>Série</td>\n",
              "      <td>Star Trek: Voyager</td>\n",
              "      <td>6: Virtuoso</td>\n",
              "    </tr>\n",
              "    <tr>\n",
              "      <th>2</th>\n",
              "      <td>2019-07-14</td>\n",
              "      <td>Série</td>\n",
              "      <td>Star Trek: Voyager</td>\n",
              "      <td>6: Num piscar de olhos</td>\n",
              "    </tr>\n",
              "    <tr>\n",
              "      <th>0</th>\n",
              "      <td>2019-07-15</td>\n",
              "      <td>Série</td>\n",
              "      <td>Stranger Things</td>\n",
              "      <td>3: Capítulo um: Está me ouvindo, Suzie?</td>\n",
              "    </tr>\n",
              "  </tbody>\n",
              "</table>\n",
              "<p>699 rows × 4 columns</p>\n",
              "</div>\n",
              "      <button class=\"colab-df-convert\" onclick=\"convertToInteractive('df-6b954dbe-b664-46b3-bbc9-4271a839c95f')\"\n",
              "              title=\"Convert this dataframe to an interactive table.\"\n",
              "              style=\"display:none;\">\n",
              "        \n",
              "  <svg xmlns=\"http://www.w3.org/2000/svg\" height=\"24px\"viewBox=\"0 0 24 24\"\n",
              "       width=\"24px\">\n",
              "    <path d=\"M0 0h24v24H0V0z\" fill=\"none\"/>\n",
              "    <path d=\"M18.56 5.44l.94 2.06.94-2.06 2.06-.94-2.06-.94-.94-2.06-.94 2.06-2.06.94zm-11 1L8.5 8.5l.94-2.06 2.06-.94-2.06-.94L8.5 2.5l-.94 2.06-2.06.94zm10 10l.94 2.06.94-2.06 2.06-.94-2.06-.94-.94-2.06-.94 2.06-2.06.94z\"/><path d=\"M17.41 7.96l-1.37-1.37c-.4-.4-.92-.59-1.43-.59-.52 0-1.04.2-1.43.59L10.3 9.45l-7.72 7.72c-.78.78-.78 2.05 0 2.83L4 21.41c.39.39.9.59 1.41.59.51 0 1.02-.2 1.41-.59l7.78-7.78 2.81-2.81c.8-.78.8-2.07 0-2.86zM5.41 20L4 18.59l7.72-7.72 1.47 1.35L5.41 20z\"/>\n",
              "  </svg>\n",
              "      </button>\n",
              "      \n",
              "  <style>\n",
              "    .colab-df-container {\n",
              "      display:flex;\n",
              "      flex-wrap:wrap;\n",
              "      gap: 12px;\n",
              "    }\n",
              "\n",
              "    .colab-df-convert {\n",
              "      background-color: #E8F0FE;\n",
              "      border: none;\n",
              "      border-radius: 50%;\n",
              "      cursor: pointer;\n",
              "      display: none;\n",
              "      fill: #1967D2;\n",
              "      height: 32px;\n",
              "      padding: 0 0 0 0;\n",
              "      width: 32px;\n",
              "    }\n",
              "\n",
              "    .colab-df-convert:hover {\n",
              "      background-color: #E2EBFA;\n",
              "      box-shadow: 0px 1px 2px rgba(60, 64, 67, 0.3), 0px 1px 3px 1px rgba(60, 64, 67, 0.15);\n",
              "      fill: #174EA6;\n",
              "    }\n",
              "\n",
              "    [theme=dark] .colab-df-convert {\n",
              "      background-color: #3B4455;\n",
              "      fill: #D2E3FC;\n",
              "    }\n",
              "\n",
              "    [theme=dark] .colab-df-convert:hover {\n",
              "      background-color: #434B5C;\n",
              "      box-shadow: 0px 1px 3px 1px rgba(0, 0, 0, 0.15);\n",
              "      filter: drop-shadow(0px 1px 2px rgba(0, 0, 0, 0.3));\n",
              "      fill: #FFFFFF;\n",
              "    }\n",
              "  </style>\n",
              "\n",
              "      <script>\n",
              "        const buttonEl =\n",
              "          document.querySelector('#df-6b954dbe-b664-46b3-bbc9-4271a839c95f button.colab-df-convert');\n",
              "        buttonEl.style.display =\n",
              "          google.colab.kernel.accessAllowed ? 'block' : 'none';\n",
              "\n",
              "        async function convertToInteractive(key) {\n",
              "          const element = document.querySelector('#df-6b954dbe-b664-46b3-bbc9-4271a839c95f');\n",
              "          const dataTable =\n",
              "            await google.colab.kernel.invokeFunction('convertToInteractive',\n",
              "                                                     [key], {});\n",
              "          if (!dataTable) return;\n",
              "\n",
              "          const docLinkHtml = 'Like what you see? Visit the ' +\n",
              "            '<a target=\"_blank\" href=https://colab.research.google.com/notebooks/data_table.ipynb>data table notebook</a>'\n",
              "            + ' to learn more about interactive tables.';\n",
              "          element.innerHTML = '';\n",
              "          dataTable['output_type'] = 'display_data';\n",
              "          await google.colab.output.renderOutput(dataTable, element);\n",
              "          const docLink = document.createElement('div');\n",
              "          docLink.innerHTML = docLinkHtml;\n",
              "          element.appendChild(docLink);\n",
              "        }\n",
              "      </script>\n",
              "    </div>\n",
              "  </div>\n",
              "  "
            ]
          },
          "metadata": {},
          "execution_count": 22
        }
      ]
    },
    {
      "cell_type": "markdown",
      "source": [
        "Em qual mês do ano foi assistido mais programas?"
      ],
      "metadata": {
        "id": "q0mlpXsfJThr"
      }
    },
    {
      "cell_type": "code",
      "source": [
        "data['Date'].dt.month.value_counts()"
      ],
      "metadata": {
        "id": "B5WSvflkJE0h",
        "outputId": "f9272259-44ec-44ca-9525-4c22fc93798a",
        "colab": {
          "base_uri": "https://localhost:8080/"
        }
      },
      "execution_count": null,
      "outputs": [
        {
          "output_type": "execute_result",
          "data": {
            "text/plain": [
              "11    83\n",
              "5     76\n",
              "1     75\n",
              "6     75\n",
              "12    69\n",
              "2     66\n",
              "4     66\n",
              "3     64\n",
              "7     60\n",
              "10    29\n",
              "8     19\n",
              "9     17\n",
              "Name: Date, dtype: int64"
            ]
          },
          "metadata": {},
          "execution_count": 23
        }
      ]
    },
    {
      "cell_type": "code",
      "source": [
        "print(f\" Novembro foi o mês do ano que foi assistido mais programas.\")"
      ],
      "metadata": {
        "id": "oic1L00dJcpV",
        "outputId": "6dbac886-f75f-4255-aae4-ba4017f46e80",
        "colab": {
          "base_uri": "https://localhost:8080/"
        }
      },
      "execution_count": null,
      "outputs": [
        {
          "output_type": "stream",
          "name": "stdout",
          "text": [
            " Novembro foi o mês do ano que foi assistido mais programas.\n"
          ]
        }
      ]
    },
    {
      "cell_type": "markdown",
      "source": [
        "4) Para este item você deverá usar o arquivo com todos os resultados do campeonato Brasileiro de futebol de 2018 (tabelaBrasileirao2018.csv encontrado na pasta aula5/dados) (dados obtidos desta e desta página da Wikipedia).\n",
        "\n",
        "Calcule qual foi a média de Renda para cada Estádio."
      ],
      "metadata": {
        "id": "WUoXEF7vJtki"
      }
    },
    {
      "cell_type": "code",
      "source": [
        "CBF = pd.read_csv('https://raw.githubusercontent.com/alice99vieira/BasesComputacionais/bacd478ebcde398e853ef5c700168b98f105d3a3/aula5/dados/tabelaBrasileirao2018.csv')"
      ],
      "metadata": {
        "id": "KrHgj5qKJzMd"
      },
      "execution_count": null,
      "outputs": []
    },
    {
      "cell_type": "code",
      "source": [
        "CBF.groupby('Estádio') ['Renda (R$)'].mean()"
      ],
      "metadata": {
        "id": "7w3S-QaAKFwQ",
        "outputId": "3cc0599f-07fe-4471-8311-ff8fa326fb2b",
        "colab": {
          "base_uri": "https://localhost:8080/"
        }
      },
      "execution_count": null,
      "outputs": [
        {
          "output_type": "execute_result",
          "data": {
            "text/plain": [
              "Estádio\n",
              "Allianz Parque, São Paulo                 2.184977e+06\n",
              "Arena Condá, Chapecó                      2.561482e+05\n",
              "Arena Corinthians, São Paulo              1.335615e+06\n",
              "Arena Fonte Nova, Salvador                3.916003e+05\n",
              "Arena Pernambuco, São Lourenço da Mata    5.939100e+05\n",
              "Arena da Baixada, Curitiba                2.660111e+05\n",
              "Arena do Grêmio, Porto Alegre             7.605969e+05\n",
              "Estádio Barradão, Salvador                9.639837e+04\n",
              "Estádio Beira-Rio, Porto Alegre           8.500737e+05\n",
              "Estádio Castelão, Fortaleza               6.231027e+05\n",
              "Estádio Engenhão, Rio de Janeiro          1.670227e+05\n",
              "Estádio Ilha do Retiro, Recife            1.826286e+05\n",
              "Estádio Indepedência, Belo Horizonte      1.131445e+05\n",
              "Estádio Independência, Belo Horizonte     1.854703e+05\n",
              "Estádio Mineirão, Belo Horizonte          3.253155e+05\n",
              "Estádio Nacional, Brasília                2.614730e+06\n",
              "Estádio Presidente Vargas, Fortaleza      1.030408e+05\n",
              "Estádio São Januário, Rio de Janeiro      2.422784e+05\n",
              "Estádio Vila Belmiro, Santos              1.646681e+05\n",
              "Estádio Vila Capanema, Curitiba           1.534964e+05\n",
              "Estádio de Pituaçu, Salvador              2.974750e+05\n",
              "Estádio do Café, Londrina                 1.953570e+06\n",
              "Estádio do Maracanã, Rio de Janeiro       8.491581e+05\n",
              "Estádio do Morumbi, São Paulo             1.188519e+06\n",
              "Estádio do Pacaembu, São Paulo            7.092811e+05\n",
              "Name: Renda (R$), dtype: float64"
            ]
          },
          "metadata": {},
          "execution_count": 27
        }
      ]
    }
  ]
}
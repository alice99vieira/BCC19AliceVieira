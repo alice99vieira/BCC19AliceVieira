{
  "nbformat": 4,
  "nbformat_minor": 0,
  "metadata": {
    "colab": {
      "provenance": [],
      "authorship_tag": "ABX9TyPoynIzWJSR/FqimsE+HbZ+",
      "include_colab_link": true
    },
    "kernelspec": {
      "name": "python3",
      "display_name": "Python 3"
    },
    "language_info": {
      "name": "python"
    }
  },
  "cells": [
    {
      "cell_type": "markdown",
      "metadata": {
        "id": "view-in-github",
        "colab_type": "text"
      },
      "source": [
        "<a href=\"https://colab.research.google.com/github/alice99vieira/BCC19AliceVieira/blob/main/Projeto.ipynb\" target=\"_parent\"><img src=\"https://colab.research.google.com/assets/colab-badge.svg\" alt=\"Open In Colab\"/></a>"
      ]
    },
    {
      "cell_type": "markdown",
      "source": [
        "####Alice Vieira Garcia \n",
        "####Lucas Amorim Leal "
      ],
      "metadata": {
        "id": "chPFiuauPDZv"
      }
    },
    {
      "cell_type": "markdown",
      "source": [
        "#Conjuntos Numéricos \n"
      ],
      "metadata": {
        "id": "MQ_XJJ1Q9RNy"
      }
    },
    {
      "cell_type": "markdown",
      "source": [
        "Serão agrupados neste repositório soluções para problemas em que são empregadas operações com conjuntos. "
      ],
      "metadata": {
        "id": "JxFUzc8s9TyX"
      }
    },
    {
      "cell_type": "markdown",
      "source": [
        "#Operações com conjuntos usando métodos numéricos como: \n",
        "\n",
        "\n",
        "\n",
        "*   União\n",
        "*   Interseção \n",
        "*   Diferença de conjuntos\n",
        "\n",
        "\n",
        "\n",
        "\n"
      ],
      "metadata": {
        "id": "7cRTV89n9mGp"
      }
    },
    {
      "cell_type": "markdown",
      "source": [
        "#Os métodos \n"
      ],
      "metadata": {
        "id": "m80qK_aDAHSM"
      }
    },
    {
      "cell_type": "markdown",
      "source": [
        "#União\n",
        "\n"
      ],
      "metadata": {
        "id": "los7S028D2PP"
      }
    },
    {
      "cell_type": "markdown",
      "source": [
        "A união de conjuntos corresponde a junção dos elementos dos conjuntos dados, ou seja, é o conjunto formado pelos elementos de um conjunto mais os elementos dos outros conjuntos.\n",
        "\n",
        "Se existirem elementos que se repetem nos conjuntos, ele aparecerá uma única vez no conjunto união.\n",
        "\n",
        "Para representar a união usamos o símbolo U.\n",
        "\n",
        "\n",
        "\n",
        "\n",
        "\n",
        "\n",
        "Suponha que tenhamos dois conjuntos A={0,1,3,5,7,9} e B={0,2,4,6,8} e desejamos construir um conjunto C que é a união dos conjuntos A e B. Matematicamente, temos que C=A∪B={0,1,2,3,4,5,6,7,8,9}. Note que o 0 aparece em ambos conjuntos, mas aparece uma única vez no conjunto C.\n",
        "\n",
        "Em Python, podemos realizar a operação acima da seguinte forma:\n",
        "\n",
        "A = {0, 1, 3, 5, 7, 9} \n",
        "B = {0, 2, 4, 6, 8}\n",
        "C = A.union(B)\n",
        "print(C)"
      ],
      "metadata": {
        "id": "1YVod33iEDEq"
      }
    },
    {
      "cell_type": "markdown",
      "source": [
        "#Interseção "
      ],
      "metadata": {
        "id": "b57_gWbbH1Ot"
      }
    },
    {
      "cell_type": "markdown",
      "source": [
        "A intersecção de conjuntos corresponde aos elementos que se repetem nos conjuntos dados. Ela é representada pelo símbolo ∩.\n",
        "\n",
        "\n",
        "\n",
        "Em Python, podemos realizar a operação acima da seguinte forma:\n",
        "A = {0, 1, 3, 5, 7, 9}\n",
        "B = {0, 2, 4, 6, 8}\n",
        "C = A & B \n",
        "print(C)\n",
        "\n",
        "Outra forma de escrever esta linha seria: C = A.intersect(B).\n"
      ],
      "metadata": {
        "id": "omWTEk2qN4EJ"
      }
    },
    {
      "cell_type": "markdown",
      "source": [
        "#Diferença de conjuntos "
      ],
      "metadata": {
        "id": "bRiNO2WbOV15"
      }
    },
    {
      "cell_type": "markdown",
      "source": [
        "A diferença de conjuntos é representada pelos elementos de um conjunto que não aparecem no outro conjunto.\n",
        "\n",
        "\n",
        "Dados dois conjuntos A e B, o conjunto diferença é indicado por A - B\n",
        "\n",
        "a = {1, 2, 3, 4}\n",
        "b = {3, 4, 5, 6}\n",
        "print a.difference(b)\n",
        "set([1, 2])\n",
        "print b.difference(a)\n",
        "set([5, 6])"
      ],
      "metadata": {
        "id": "UrB2nEOyQF3t"
      }
    },
    {
      "cell_type": "markdown",
      "source": [],
      "metadata": {
        "id": "P7-xSgQBQCdA"
      }
    }
  ]
}
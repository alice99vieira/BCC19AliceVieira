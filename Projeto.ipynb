{
  "nbformat": 4,
  "nbformat_minor": 0,
  "metadata": {
    "colab": {
      "provenance": [],
      "authorship_tag": "ABX9TyOSI/3aC/RV9An26UbzdBwK",
      "include_colab_link": true
    },
    "kernelspec": {
      "name": "python3",
      "display_name": "Python 3"
    },
    "language_info": {
      "name": "python"
    }
  },
  "cells": [
    {
      "cell_type": "markdown",
      "metadata": {
        "id": "view-in-github",
        "colab_type": "text"
      },
      "source": [
        "<a href=\"https://colab.research.google.com/github/alice99vieira/BCC19AliceVieira/blob/main/Projeto.ipynb\" target=\"_parent\"><img src=\"https://colab.research.google.com/assets/colab-badge.svg\" alt=\"Open In Colab\"/></a>"
      ]
    },
    {
      "cell_type": "markdown",
      "source": [
        "####Alice Vieira Garcia \n",
        "####Lucas Amorim Leal "
      ],
      "metadata": {
        "id": "chPFiuauPDZv"
      }
    },
    {
      "cell_type": "markdown",
      "source": [
        "#Conjuntos Numéricos \n"
      ],
      "metadata": {
        "id": "MQ_XJJ1Q9RNy"
      }
    },
    {
      "cell_type": "markdown",
      "source": [
        "Serão agrupados neste repositório soluções para problemas em que são empregadas operações com conjuntos. "
      ],
      "metadata": {
        "id": "JxFUzc8s9TyX"
      }
    },
    {
      "cell_type": "markdown",
      "source": [
        "#Operações com conjuntos usando métodos numéricos como: \n",
        "\n",
        "\n",
        "\n",
        "*   União\n",
        "*   Interseção \n",
        "*   Diferença de conjuntos\n",
        "*   Diferença simétrica\n",
        "*   Pertinência \n",
        "\n",
        "\n",
        "\n",
        "\n",
        "\n",
        "\n"
      ],
      "metadata": {
        "id": "7cRTV89n9mGp"
      }
    },
    {
      "cell_type": "markdown",
      "source": [
        "#Os métodos \n"
      ],
      "metadata": {
        "id": "m80qK_aDAHSM"
      }
    },
    {
      "cell_type": "markdown",
      "source": [
        "#União\n",
        "\n"
      ],
      "metadata": {
        "id": "los7S028D2PP"
      }
    },
    {
      "cell_type": "markdown",
      "source": [
        "A união de conjuntos corresponde a junção dos elementos dos conjuntos dados, ou seja, é o conjunto formado pelos elementos de um conjunto mais os elementos dos outros conjuntos.\n",
        "\n",
        "Se existirem elementos que se repetem nos conjuntos, ele aparecerá uma única vez no conjunto união.\n",
        "\n",
        "Para representar a união usamos o símbolo U.\n",
        "\n",
        "![uniao.webp](data:image/webp;base64,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)\n",
        "\n",
        "\n",
        "\n",
        "\n",
        "\n",
        "\n",
        "\n",
        "Suponha que tenhamos dois conjuntos A={0,1,3,5,7,9} e B={0,2,4,6,8} e desejamos construir um conjunto C que é a união dos conjuntos A e B. Matematicamente, temos que C=A∪B={0,1,2,3,4,5,6,7,8,9}. Note que o 0 aparece em ambos conjuntos, mas aparece uma única vez no conjunto C.\n",
        "\n",
        "Em Python, podemos realizar a operação acima da seguinte forma:\n",
        "\n",
        "A = {0, 1, 3, 5, 7, 9} \n",
        "B = {0, 2, 4, 6, 8}\n",
        "C = A.union(B)\n",
        "print(C)"
      ],
      "metadata": {
        "id": "1YVod33iEDEq"
      }
    },
    {
      "cell_type": "markdown",
      "source": [
        "#Interseção "
      ],
      "metadata": {
        "id": "b57_gWbbH1Ot"
      }
    },
    {
      "cell_type": "markdown",
      "source": [
        "A intersecção de conjuntos corresponde aos elementos que se repetem nos conjuntos dados. Ela é representada pelo símbolo ∩.\n",
        "\n",
        "![interseca_ao.webp](data:image/webp;base64,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)\n",
        "\n",
        "\n",
        "\n",
        "Em Python, podemos realizar a operação acima da seguinte forma:\n",
        "A = {0, 1, 3, 5, 7, 9}\n",
        "B = {0, 2, 4, 6, 8}\n",
        "C = A & B \n",
        "print(C)\n",
        "\n",
        "Outra forma de escrever esta linha seria: C = A.intersect(B).\n"
      ],
      "metadata": {
        "id": "omWTEk2qN4EJ"
      }
    },
    {
      "cell_type": "markdown",
      "source": [
        "#Diferença de conjuntos "
      ],
      "metadata": {
        "id": "bRiNO2WbOV15"
      }
    },
    {
      "cell_type": "markdown",
      "source": [
        "A diferença de conjuntos é representada pelos elementos de um conjunto que não aparecem no outro conjunto.\n",
        "\n",
        "![diferena_a.webp](data:image/webp;base64,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)\n",
        "\n",
        "\n",
        "Dados dois conjuntos A e B, o conjunto diferença é indicado por A - B\n",
        "\n",
        "a = {1, 2, 3, 4}\n",
        "b = {3, 4, 5, 6}\n",
        "print a.difference(b)\n",
        "set([1, 2])\n",
        "print b.difference(a)\n",
        "set([5, 6])"
      ],
      "metadata": {
        "id": "UrB2nEOyQF3t"
      }
    },
    {
      "cell_type": "markdown",
      "source": [
        "#Diferença Simétrica "
      ],
      "metadata": {
        "id": "r6b1y-cpdamA"
      }
    },
    {
      "cell_type": "markdown",
      "source": [
        "A diferença simétrica entre os conjuntos A e B é o conjunto de todos os elementos que pertencem à reunião dos conjuntos A e B e não pertencem à interseção dos conjuntos A e B.\n",
        "\n",
        "![diferemça simetrica.png](data:image/png;base64,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)\n",
        "\n",
        "\n",
        "a = {1, 2, 3, 4}\n",
        "b = {3, 4, 5, 6}\n",
        "print a.symmetric_difference(b)\n",
        "set([1, 2, 5, 6])"
      ],
      "metadata": {
        "id": "S2EBDYk1dgzr"
      }
    },
    {
      "cell_type": "markdown",
      "source": [
        "#Pertinência "
      ],
      "metadata": {
        "id": "20YXhYmneMWQ"
      }
    },
    {
      "cell_type": "markdown",
      "source": [
        "Além das operações tradicionais de união, interseção e diferença, também temos operações de verificação de pertinência. Para verificar se um determinado elemento pertence a um conjunto, podemos usar o já conhecido operador de pertinência in:\n",
        "\n",
        "\n",
        "a = {1, 2, 3, 4}\n",
        "b = {3, 4, 5, 6}\n",
        "1 in a\n",
        "True\n",
        "5 in a\n",
        "False\n",
        "\n",
        "Também podemos verificar se um conjunto é um subconjunto de outro:\n",
        "\n",
        "a = {1, 2, 3, 4}\n",
        "c = {1, 2}\n",
        "c.issubset(a)\n",
        "True\n",
        "a.issubset(c)\n",
        "False"
      ],
      "metadata": {
        "id": "aC5uHkbIeOQt"
      }
    }
  ]
}
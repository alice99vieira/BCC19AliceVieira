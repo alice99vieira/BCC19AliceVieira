{
  "nbformat": 4,
  "nbformat_minor": 0,
  "metadata": {
    "colab": {
      "provenance": [],
      "authorship_tag": "ABX9TyNFKeYi6i9W/+3G/D/Sekb9",
      "include_colab_link": true
    },
    "kernelspec": {
      "name": "python3",
      "display_name": "Python 3"
    },
    "language_info": {
      "name": "python"
    }
  },
  "cells": [
    {
      "cell_type": "markdown",
      "metadata": {
        "id": "view-in-github",
        "colab_type": "text"
      },
      "source": [
        "<a href=\"https://colab.research.google.com/github/alice99vieira/BCC19AliceVieira/blob/main/Tarefa15AliceVieira.ipynb\" target=\"_parent\"><img src=\"https://colab.research.google.com/assets/colab-badge.svg\" alt=\"Open In Colab\"/></a>"
      ]
    },
    {
      "cell_type": "markdown",
      "source": [
        "#Alice Vieira "
      ],
      "metadata": {
        "id": "JSncPDGEWIHy"
      }
    },
    {
      "cell_type": "markdown",
      "source": [
        "Tarefa (para agora)\n",
        "Escrever um notebook do Colab para fazer o que pedido a seguir.\n",
        "\n",
        "Colocar o seu nome na primeira célula do Notebook.\n",
        "\n",
        "O notebook deve estar com texto explicando o Notebook.\n",
        "\n",
        "Todos os resultados devem ser mostrados ao executar o notebook.\n",
        "\n",
        "Coloque no seu repositório do Github o arquivo '.ipynb' contendo o notebook feito por você com o nome \"Tarefa15SeuNome.ipynb\".\n",
        "\n",
        "1) Faça uma função que receba um número a, um número b e um número x. Esta função deve retornar True se x estiver entre a e b e False caso contrário. Além disso a função deve mostrar uma mensagem dizendo se x está no intervalo entre a e b ou não.\n",
        "\n",
        "Teste para\n",
        "\n",
        "a) a = -2.5, b = 6.3 e x = 9.1;\n",
        "b) a = -10, b = 7 e x = 2.2\n",
        "c) a = 67.2, b = 87.2 e x = 8.1\n",
        "Sugestão:\n",
        "\n",
        "a função pode ter a seguinte estrutura:\n",
        "\n",
        "def estaNoIntervalo(a, b, x):\n",
        "    ...\n",
        "    return resposta"
      ],
      "metadata": {
        "id": "nyUO7IMuWQJo"
      }
    },
    {
      "cell_type": "code",
      "source": [
        "import math\n",
        "\n",
        "def estaNoIntervalo(n):\n",
        "  n = a-b\n",
        "  if x <= n:\n",
        "    True\n",
        "    print('Verdadeiro. X está no intervalo entre ', a, 'e', b,'')\n",
        "  else:\n",
        "      False\n",
        "      print('Falso. X NÃO está no intervalo entre ', a, 'e', b, '')\n",
        "      return n"
      ],
      "metadata": {
        "id": "Tc4E2LkjWUa9"
      },
      "execution_count": 2,
      "outputs": []
    },
    {
      "cell_type": "code",
      "source": [
        "x = 9.1\n",
        "a = -2.5\n",
        "b = 6.3\n",
        "estaNoIntervalo(x)"
      ],
      "metadata": {
        "colab": {
          "base_uri": "https://localhost:8080/"
        },
        "id": "ZRklQQyR8Clf",
        "outputId": "b94afcf6-dd87-4c67-d71e-12e25dbef8f4"
      },
      "execution_count": 3,
      "outputs": [
        {
          "output_type": "stream",
          "name": "stdout",
          "text": [
            "Falso. X NÃO está no intervalo entre  -2.5 e 6.3 \n"
          ]
        },
        {
          "output_type": "execute_result",
          "data": {
            "text/plain": [
              "-8.8"
            ]
          },
          "metadata": {},
          "execution_count": 3
        }
      ]
    },
    {
      "cell_type": "code",
      "source": [
        "x = 2.2\n",
        "a = 7\n",
        "b = -10\n",
        "estaNoIntervalo(x)"
      ],
      "metadata": {
        "colab": {
          "base_uri": "https://localhost:8080/"
        },
        "id": "SrnhDGOQ8V-B",
        "outputId": "6b4b9d68-7138-4328-f78f-3d3012e0ff18"
      },
      "execution_count": 4,
      "outputs": [
        {
          "output_type": "stream",
          "name": "stdout",
          "text": [
            "Verdadeiro. X está no intervalo entre  7 e -10 \n"
          ]
        }
      ]
    },
    {
      "cell_type": "code",
      "source": [
        "a = 67.2\n",
        "b = 87.2\n",
        "x = 8.1\n",
        "estaNoIntervalo(x)"
      ],
      "metadata": {
        "colab": {
          "base_uri": "https://localhost:8080/"
        },
        "id": "hU0oe10T8elK",
        "outputId": "f0320527-3085-437c-b21d-2afb951bb075"
      },
      "execution_count": 5,
      "outputs": [
        {
          "output_type": "stream",
          "name": "stdout",
          "text": [
            "Falso. X NÃO está no intervalo entre  67.2 e 87.2 \n"
          ]
        },
        {
          "output_type": "execute_result",
          "data": {
            "text/plain": [
              "-20.0"
            ]
          },
          "metadata": {},
          "execution_count": 5
        }
      ]
    }
  ]
}
{
  "nbformat": 4,
  "nbformat_minor": 0,
  "metadata": {
    "colab": {
      "provenance": [],
      "authorship_tag": "ABX9TyOkiv/pAIVtQmngalq03sKE",
      "include_colab_link": true
    },
    "kernelspec": {
      "name": "python3",
      "display_name": "Python 3"
    },
    "language_info": {
      "name": "python"
    }
  },
  "cells": [
    {
      "cell_type": "markdown",
      "metadata": {
        "id": "view-in-github",
        "colab_type": "text"
      },
      "source": [
        "<a href=\"https://colab.research.google.com/github/alice99vieira/BCC19AliceVieira/blob/main/Tarefa3AliceVieira.ipynb\" target=\"_parent\"><img src=\"https://colab.research.google.com/assets/colab-badge.svg\" alt=\"Open In Colab\"/></a>"
      ]
    },
    {
      "cell_type": "markdown",
      "source": [],
      "metadata": {
        "id": "yaGslMxUshuu"
      }
    },
    {
      "cell_type": "markdown",
      "source": [
        "#Alice Vieira Garcia \n"
      ],
      "metadata": {
        "id": "4QzC9xXbs-ab"
      }
    },
    {
      "cell_type": "markdown",
      "source": [
        "#Tarefa (para agora)\n",
        "\n",
        "Escrever um notebook do Colab para calcular o número de segundos , dado o número de horas contida em uma variável .\n",
        "\n",
        "Colocar o seu nome e na primeira célula do Notebook.\n",
        "\n",
        "O notebook deve estar com texto explicando o Notebook.\n",
        "\n",
        "Use o notebook para encontrar o número de segundos para 1) uma hora e meia; 2) 12 horas; 3) 24 horas.\n",
        "\n",
        "Os três resultados devem ser mostrados ao executar o notebook.\n",
        "\n",
        "Coloque no seu repositório do Github o arquivo '.ipynb' contendo o notebook feito por você com o nome \"Tarefa3SeuNome.ipynb\".\n"
      ],
      "metadata": {
        "id": "a3iArzHms0L3"
      }
    },
    {
      "cell_type": "code",
      "source": [
        "#include<stdio.h>\n",
        "\n",
        "horas = int(input(\"Horas:h1\"))\n",
        "minutos = int(input(\"Minutos:h60\"))\n",
        "segundos = int(input(\"Segundos:h3600\"))\n",
        "# Um minuto tem 60 segundos\n",
        "# Uma hora e meia tem 5400 (90 * 60) segundos\n",
        "# Um dia tem 24 horas, logo 24 * 3600 segundos\n",
        "total_em_segundos = horas* 24 * 3600 + horas * 3600 + minutos * 60 + segundos\n",
        "print(\"Convertido em segundos é igual a %10d segundos.\" % total_em_segundos)\n"
      ],
      "metadata": {
        "id": "U-vQZBRojZsg"
      },
      "execution_count": null,
      "outputs": []
    }
  ]
}
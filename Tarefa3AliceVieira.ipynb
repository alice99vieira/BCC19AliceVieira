{
  "nbformat": 4,
  "nbformat_minor": 0,
  "metadata": {
    "colab": {
      "provenance": [],
      "authorship_tag": "ABX9TyN+J5yVvi2DmgL6pX5a2553",
      "include_colab_link": true
    },
    "kernelspec": {
      "name": "python3",
      "display_name": "Python 3"
    },
    "language_info": {
      "name": "python"
    }
  },
  "cells": [
    {
      "cell_type": "markdown",
      "metadata": {
        "id": "view-in-github",
        "colab_type": "text"
      },
      "source": [
        "<a href=\"https://colab.research.google.com/github/alice99vieira/BCC19AliceVieira/blob/main/Tarefa3AliceVieira.ipynb\" target=\"_parent\"><img src=\"https://colab.research.google.com/assets/colab-badge.svg\" alt=\"Open In Colab\"/></a>"
      ]
    },
    {
      "cell_type": "markdown",
      "source": [],
      "metadata": {
        "id": "yaGslMxUshuu"
      }
    },
    {
      "cell_type": "markdown",
      "source": [
        "#Alice Vieira Garcia \n"
      ],
      "metadata": {
        "id": "4QzC9xXbs-ab"
      }
    },
    {
      "cell_type": "markdown",
      "source": [
        "#Tarefa (para agora)\n",
        "\n",
        "Escrever um notebook do Colab para calcular o número de segundos , dado o número de horas contida em uma variável .\n",
        "\n",
        "Colocar o seu nome e na primeira célula do Notebook.\n",
        "\n",
        "O notebook deve estar com texto explicando o Notebook.\n",
        "\n",
        "Use o notebook para encontrar o número de segundos para 1) uma hora e meia; 2) 12 horas; 3) 24 horas.\n",
        "\n",
        "Os três resultados devem ser mostrados ao executar o notebook.\n",
        "\n",
        "Coloque no seu repositório do Github o arquivo '.ipynb' contendo o notebook feito por você com o nome \"Tarefa3SeuNome.ipynb\".\n"
      ],
      "metadata": {
        "id": "a3iArzHms0L3"
      }
    },
    {
      "cell_type": "code",
      "source": [
        "\n",
        "H1 = 1.5\n",
        "H2 = 12\n",
        "H3 = 24\n"
      ],
      "metadata": {
        "id": "lpjGpe5h8KmI"
      },
      "execution_count": 4,
      "outputs": []
    },
    {
      "cell_type": "markdown",
      "source": [
        "1) Uma hora e meia:"
      ],
      "metadata": {
        "id": "uwNnCEuL8hRE"
      }
    },
    {
      "cell_type": "code",
      "source": [
        "S = H1 * 3600\n",
        "S"
      ],
      "metadata": {
        "id": "Mo1BtdiW8lRq",
        "outputId": "7b6c3a36-d1a0-4f1a-cbd0-2de575e7f6f6",
        "colab": {
          "base_uri": "https://localhost:8080/"
        }
      },
      "execution_count": 5,
      "outputs": [
        {
          "output_type": "execute_result",
          "data": {
            "text/plain": [
              "5400.0"
            ]
          },
          "metadata": {},
          "execution_count": 5
        }
      ]
    },
    {
      "cell_type": "markdown",
      "source": [
        "2) 12 HORAS \n"
      ],
      "metadata": {
        "id": "TQx47xxl9Kps"
      }
    },
    {
      "cell_type": "code",
      "source": [
        "S = H2 * 3600\n",
        "S"
      ],
      "metadata": {
        "id": "a3CIeRQA9NIj",
        "outputId": "b401fce3-dc7a-41b0-8e8f-fbe1de5b423a",
        "colab": {
          "base_uri": "https://localhost:8080/"
        }
      },
      "execution_count": 6,
      "outputs": [
        {
          "output_type": "execute_result",
          "data": {
            "text/plain": [
              "43200"
            ]
          },
          "metadata": {},
          "execution_count": 6
        }
      ]
    },
    {
      "cell_type": "markdown",
      "source": [
        "3) 24 HORAS "
      ],
      "metadata": {
        "id": "3fvlAQmt9UT6"
      }
    },
    {
      "cell_type": "code",
      "source": [
        "S = H3 * 3600\n",
        "S"
      ],
      "metadata": {
        "id": "38qXWYyN9WMB",
        "outputId": "8a30a3cf-38ac-4f05-c59c-e44277290863",
        "colab": {
          "base_uri": "https://localhost:8080/"
        }
      },
      "execution_count": 7,
      "outputs": [
        {
          "output_type": "execute_result",
          "data": {
            "text/plain": [
              "86400"
            ]
          },
          "metadata": {},
          "execution_count": 7
        }
      ]
    }
  ]
}
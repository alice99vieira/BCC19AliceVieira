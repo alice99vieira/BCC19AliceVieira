{
  "nbformat": 4,
  "nbformat_minor": 0,
  "metadata": {
    "colab": {
      "provenance": [],
      "authorship_tag": "ABX9TyNdCtcWDLqZ74i2ZNpSnxwY",
      "include_colab_link": true
    },
    "kernelspec": {
      "name": "python3",
      "display_name": "Python 3"
    },
    "language_info": {
      "name": "python"
    }
  },
  "cells": [
    {
      "cell_type": "markdown",
      "metadata": {
        "id": "view-in-github",
        "colab_type": "text"
      },
      "source": [
        "<a href=\"https://colab.research.google.com/github/alice99vieira/BCC19AliceVieira/blob/main/Tarefa5AliceVieira.ipynb\" target=\"_parent\"><img src=\"https://colab.research.google.com/assets/colab-badge.svg\" alt=\"Open In Colab\"/></a>"
      ]
    },
    {
      "cell_type": "markdown",
      "source": [
        "#Alice Vieira \n"
      ],
      "metadata": {
        "id": "5KvIAeQXALKc"
      }
    },
    {
      "cell_type": "markdown",
      "source": [
        "Tarefa (para agora)\n",
        "\n",
        "Escrever um notebook do Colab para fazer o que pedido a seguir.\n",
        "\n",
        "Colocar o seu nome na primeira célula do Notebook.\n",
        "\n",
        "O notebook deve estar com texto explicando o Notebook.\n",
        "\n",
        "Todos os resultados devem ser mostrados ao executar o Notebook.\n",
        "\n",
        "Coloque no seu repositório do Github o arquivo '.ipynb' contendo o script feito por você com o nome \"Tarefa5SeuNome.ipynb\"."
      ],
      "metadata": {
        "id": "_HzpofeqAJcH"
      }
    },
    {
      "cell_type": "code",
      "source": [
        "import matplotlib.pyplot as plt\n",
        "\n",
        "print(\"O tempo informado foi: 6\")\n",
        "print(\"LEMBRETE: A unidade do tempo é '/s'\")\n",
        "print()\n",
        "print(\"A altura máxima informada foi:h\")\n",
        "print(\"LEMBRETE: A unidade da altura é 'm'\")\n",
        "print()\n",
        "l=input()\n",
        "\n",
        "\n",
        "print('O máximo de x é', 4)\n",
        "print('O mínimo de y é', 2)\n",
        "\n",
        "plt.title('parábola')\n",
        "plt.grid(True)\n",
        "plt.xlabel('Eixo y')\n",
        "plt.ylabel('Eixo x')\n",
        "plt.plot(2,4)\n",
        "plt.show()\n",
        "\n",
        "plt.savefig(\"chart\");"
      ],
      "metadata": {
        "colab": {
          "base_uri": "https://localhost:8080/",
          "height": 469
        },
        "id": "RSB4j6RqAq6N",
        "outputId": "d872da7c-36d4-4bb0-a721-89b7f3a222ee"
      },
      "execution_count": 8,
      "outputs": [
        {
          "output_type": "stream",
          "name": "stdout",
          "text": [
            "O tempo informado foi: 6\n",
            "LEMBRETE: A unidade do tempo é '/s'\n",
            "\n",
            "A altura máxima informada foi:h\n",
            "LEMBRETE: A unidade da altura é 'm'\n",
            "\n",
            "h4\n",
            "O máximo de x é 4\n",
            "O mínimo de y é 2\n"
          ]
        },
        {
          "output_type": "display_data",
          "data": {
            "text/plain": [
              "<Figure size 432x288 with 1 Axes>"
            ],
            "image/png": "[encoded data removed]"
          },
          "metadata": {
            "needs_background": "light"
          }
        },
        {
          "output_type": "display_data",
          "data": {
            "text/plain": [
              "<Figure size 432x288 with 0 Axes>"
            ]
          },
          "metadata": {}
        }
      ]
    }
  ]
}
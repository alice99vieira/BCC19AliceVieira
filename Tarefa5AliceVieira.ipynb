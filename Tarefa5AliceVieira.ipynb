{
  "nbformat": 4,
  "nbformat_minor": 0,
  "metadata": {
    "colab": {
      "provenance": [],
      "authorship_tag": "ABX9TyMVt+uTyGwxEiNt7EhvTmKO",
      "include_colab_link": true
    },
    "kernelspec": {
      "name": "python3",
      "display_name": "Python 3"
    },
    "language_info": {
      "name": "python"
    }
  },
  "cells": [
    {
      "cell_type": "markdown",
      "metadata": {
        "id": "view-in-github",
        "colab_type": "text"
      },
      "source": [
        "<a href=\"https://colab.research.google.com/github/alice99vieira/BCC19AliceVieira/blob/main/Tarefa5AliceVieira.ipynb\" target=\"_parent\"><img src=\"https://colab.research.google.com/assets/colab-badge.svg\" alt=\"Open In Colab\"/></a>"
      ]
    },
    {
      "cell_type": "markdown",
      "source": [
        "#Alice Vieira \n"
      ],
      "metadata": {
        "id": "5KvIAeQXALKc"
      }
    },
    {
      "cell_type": "markdown",
      "source": [
        "Tarefa (para agora)\n",
        "\n",
        "Escrever um notebook do Colab para fazer o que pedido a seguir.\n",
        "\n",
        "Colocar o seu nome na primeira célula do Notebook.\n",
        "\n",
        "O notebook deve estar com texto explicando o Notebook.\n",
        "\n",
        "Todos os resultados devem ser mostrados ao executar o Notebook.\n",
        "\n",
        "Coloque no seu repositório do Github o arquivo '.ipynb' contendo o script feito por você com o nome \"Tarefa5SeuNome.ipynb\"."
      ],
      "metadata": {
        "id": "_HzpofeqAJcH"
      }
    },
    {
      "cell_type": "code",
      "source": [
        "import numpy as np\n",
        "import matplotlib.pyplot as plt\n",
        "\n",
        "t = np.arange(0, 5, 0.1)\n",
        "h = -t**2 + 4*t\n",
        "\n",
        "plt.figure()\n",
        "plt.plot(t, h)\n",
        "plt.xlabel('t(s)')\n",
        "plt.ylabel('h(m)')\n",
        "plt.grid()\n",
        "plt.show()"
      ],
      "metadata": {
        "id": "4oBNEplaFRp0",
        "outputId": "8857fa15-ab89-4377-aefe-aaa0476e0603",
        "colab": {
          "base_uri": "https://localhost:8080/",
          "height": 279
        }
      },
      "execution_count": 1,
      "outputs": [
        {
          "output_type": "display_data",
          "data": {
            "text/plain": [
              "<Figure size 432x288 with 1 Axes>"
            ],
            "image/png": "[encoded data removed]"
          },
          "metadata": {
            "needs_background": "light"
          }
        }
      ]
    },
    {
      "cell_type": "code",
      "source": [
        "print('A máxima altura é atingida em ', t[h == np.max(h)], ' s')\n"
      ],
      "metadata": {
        "id": "TLUJonkGFVLB",
        "outputId": "6cf940b3-93f8-4cc8-d63e-2ee793586d19",
        "colab": {
          "base_uri": "https://localhost:8080/"
        }
      },
      "execution_count": 2,
      "outputs": [
        {
          "output_type": "stream",
          "name": "stdout",
          "text": [
            "A máxima altura é atingida em  [2.]  s\n"
          ]
        }
      ]
    }
  ]
}
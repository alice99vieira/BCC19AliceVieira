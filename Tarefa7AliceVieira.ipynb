{
  "nbformat": 4,
  "nbformat_minor": 0,
  "metadata": {
    "colab": {
      "provenance": [],
      "authorship_tag": "ABX9TyNAM/WCFtbHDST6HHfv/1bR",
      "include_colab_link": true
    },
    "kernelspec": {
      "name": "python3",
      "display_name": "Python 3"
    },
    "language_info": {
      "name": "python"
    }
  },
  "cells": [
    {
      "cell_type": "markdown",
      "metadata": {
        "id": "view-in-github",
        "colab_type": "text"
      },
      "source": [
        "<a href=\"https://colab.research.google.com/github/alice99vieira/BCC19AliceVieira/blob/main/Tarefa7AliceVieira.ipynb\" target=\"_parent\"><img src=\"https://colab.research.google.com/assets/colab-badge.svg\" alt=\"Open In Colab\"/></a>"
      ]
    },
    {
      "cell_type": "markdown",
      "source": [
        "#Alice Vieira "
      ],
      "metadata": {
        "id": "hqUvzwY3ZBiC"
      }
    },
    {
      "cell_type": "markdown",
      "source": [
        "Tarefa (para agora)\n",
        "\n",
        "Escrever um notebook do Colab para fazer o que pedido a seguir.\n",
        "\n",
        "Colocar o seu nome na primeira célula do Notebook.\n",
        "\n",
        "O notebook deve estar com texto explicando o Notebook.\n",
        "\n",
        "Todos os resultados devem ser mostrados ao executar o notebook.\n",
        "\n",
        "Coloque no seu repositório do Github o arquivo '.ipynb' contendo o notebook feito por você com o nome \"Tarefa7SeuNome.ipynb\".\n",
        "\n",
        "1) Faça um programa que mostre se o número inteiro guardado na variável  é par ou ímpar. Caso seja par, deve aparecer na tela: \"O número x é par\". Caso seja ímpar deve aparecer \"O número x é ímpar\".\n",
        "\n",
        "Teste para a)  x= 1, b)  x= 24, c)  x= 10, d)  x= 5."
      ],
      "metadata": {
        "id": "UK6sCKUzZEQF"
      }
    },
    {
      "cell_type": "code",
      "source": [
        "numero = float(input('Digite um numero para saber se é par ou  ímpar:'))\n",
        "resto = numero % 2\n",
        "\n",
        "if resto == 0:\n",
        "  print('numero é par')\n",
        "else:\n",
        "  print('numero é ímpar')"
      ],
      "metadata": {
        "colab": {
          "base_uri": "https://localhost:8080/"
        },
        "id": "IL5PyjLwZKuq",
        "outputId": "193af13b-70d6-47ea-cd81-83f3abfed11f"
      },
      "execution_count": 2,
      "outputs": [
        {
          "output_type": "stream",
          "name": "stdout",
          "text": [
            "Digite um numero para saber se é par ou  ímpar:1\n",
            "numero é ímpar\n"
          ]
        }
      ]
    },
    {
      "cell_type": "code",
      "source": [
        "numero = float(input('Digite um numero para saber se é par ou  ímpar:'))\n",
        "resto = numero % 2\n",
        "\n",
        "if resto == 0:\n",
        "  print('numero é par')\n",
        "else:\n",
        "  print('numero é ímpar')"
      ],
      "metadata": {
        "colab": {
          "base_uri": "https://localhost:8080/"
        },
        "outputId": "e211b696-3c54-452e-b6d1-e8ebef398f88",
        "id": "PRRt7hYMaq7i"
      },
      "execution_count": 3,
      "outputs": [
        {
          "output_type": "stream",
          "name": "stdout",
          "text": [
            "Digite um numero para saber se é par ou  ímpar:24\n",
            "numero é par\n"
          ]
        }
      ]
    },
    {
      "cell_type": "code",
      "source": [
        "numero = float(input('Digite um numero para saber se é par ou  ímpar:'))\n",
        "resto = numero % 2\n",
        "\n",
        "if resto == 0:\n",
        "  print('numero é par')\n",
        "else:\n",
        "  print('numero é ímpar')"
      ],
      "metadata": {
        "colab": {
          "base_uri": "https://localhost:8080/"
        },
        "outputId": "5ddbea60-4e00-4f21-a523-2a5e413c43bd",
        "id": "_9_aYa2oavdy"
      },
      "execution_count": 4,
      "outputs": [
        {
          "output_type": "stream",
          "name": "stdout",
          "text": [
            "Digite um numero para saber se é par ou  ímpar:10\n",
            "numero é par\n"
          ]
        }
      ]
    },
    {
      "cell_type": "code",
      "source": [
        "numero = float(input('Digite um numero para saber se é par ou  ímpar:'))\n",
        "resto = numero % 2\n",
        "\n",
        "if resto == 0:\n",
        "  print('numero é par')\n",
        "else:\n",
        "  print('numero é ímpar')"
      ],
      "metadata": {
        "colab": {
          "base_uri": "https://localhost:8080/"
        },
        "outputId": "1df93b8c-6486-4d0e-e7bb-9aea3114ef96",
        "id": "yspsBEiNazD6"
      },
      "execution_count": 5,
      "outputs": [
        {
          "output_type": "stream",
          "name": "stdout",
          "text": [
            "Digite um numero para saber se é par ou  ímpar:10\n",
            "numero é par\n"
          ]
        }
      ]
    }
  ]
}
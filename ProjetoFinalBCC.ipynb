{
  "nbformat": 4,
  "nbformat_minor": 0,
  "metadata": {
    "colab": {
      "provenance": [],
      "include_colab_link": true
    },
    "kernelspec": {
      "name": "python3",
      "display_name": "Python 3"
    },
    "language_info": {
      "name": "python"
    }
  },
  "cells": [
    {
      "cell_type": "markdown",
      "metadata": {
        "id": "view-in-github",
        "colab_type": "text"
      },
      "source": [
        "<a href=\"https://colab.research.google.com/github/alice99vieira/BCC19AliceVieira/blob/main/ProjetoFinalBCC.ipynb\" target=\"_parent\"><img src=\"https://colab.research.google.com/assets/colab-badge.svg\" alt=\"Open In Colab\"/></a>"
      ]
    },
    {
      "cell_type": "markdown",
      "source": [
        "#Projeto final da disciplina Bases Computacionais da Ciência\n",
        "\n",
        "####Marcos Duarte\n",
        "\n",
        "Universidade Federal do ABC\n",
        "\n",
        "Período noturno\n",
        "\n",
        "Campos de São Bernardo do Campo, Brasil"
      ],
      "metadata": {
        "id": "jyTYsi8egSLt"
      }
    },
    {
      "cell_type": "markdown",
      "source": [
        "Integrantes:\n",
        "####Alice Vieira Garcia \n",
        "####Lucas Amorim Leal "
      ],
      "metadata": {
        "id": "chPFiuauPDZv"
      }
    },
    {
      "cell_type": "markdown",
      "source": [
        "#Conteúdo\n",
        "\n",
        "*   Conjuntos Numéricos\n",
        "*   Representação de conjuntos no Python\n",
        "*   Operações com conjuntos usando métodos numéricos\n",
        "*   União\n",
        "*   Interseção \n",
        "*   Diferença de conjuntos\n",
        "*   Diferença Simétrica\n",
        "*   Pertinência\n",
        "*   Referências\n"
      ],
      "metadata": {
        "id": "0klGiaOjh_2y"
      }
    },
    {
      "cell_type": "markdown",
      "source": [
        "#Conjuntos Numéricos \n"
      ],
      "metadata": {
        "id": "MQ_XJJ1Q9RNy"
      }
    },
    {
      "cell_type": "markdown",
      "source": [
        "Serão agrupados neste repositório soluções para problemas em que são empregadas operações com conjuntos. "
      ],
      "metadata": {
        "id": "JxFUzc8s9TyX"
      }
    },
    {
      "cell_type": "markdown",
      "source": [
        "#Representação de conjuntos no Python\n",
        "Temos dois métodos de representarmos um conjunto de numeros em python.\n",
        "\n",
        "1)"
      ],
      "metadata": {
        "id": "SP0uCsgiXWPi"
      }
    },
    {
      "cell_type": "code",
      "source": [
        "A = {1, 2, 3, 4, 5}\n",
        "print(A)"
      ],
      "metadata": {
        "id": "5ARyjlIOYryg",
        "outputId": "dfeea787-fa61-4427-ae30-3d47de3fe083",
        "colab": {
          "base_uri": "https://localhost:8080/"
        }
      },
      "execution_count": null,
      "outputs": [
        {
          "output_type": "stream",
          "name": "stdout",
          "text": [
            "{1, 2, 3, 4, 5}\n"
          ]
        }
      ]
    },
    {
      "cell_type": "markdown",
      "source": [
        "2) Pela biblioteca numpy"
      ],
      "metadata": {
        "id": "k3Wpq4ToY4uS"
      }
    },
    {
      "cell_type": "code",
      "source": [
        "import numpy as np\n",
        "\n",
        "B = np.array([1, 2, 3, 4, 5, 6])\n",
        "print(B)\n",
        "\n",
        "C = np.arange(0, 11, 2)\n",
        "print(C)\n",
        "\n",
        "D = np.linspace(1, 5, 5)\n",
        "print(D)"
      ],
      "metadata": {
        "id": "qEZGGhFvZHUL",
        "outputId": "9e93010a-384f-41a2-fa63-ff3840881f28",
        "colab": {
          "base_uri": "https://localhost:8080/"
        }
      },
      "execution_count": null,
      "outputs": [
        {
          "output_type": "stream",
          "name": "stdout",
          "text": [
            "[1 2 3 4 5 6]\n",
            "[ 0  2  4  6  8 10]\n",
            "[1. 2. 3. 4. 5.]\n"
          ]
        }
      ]
    },
    {
      "cell_type": "markdown",
      "source": [
        "#Operações com conjuntos usando métodos numéricos como: \n",
        "\n",
        "\n",
        "\n",
        "*   União\n",
        "*   Interseção \n",
        "*   Diferença de conjuntos\n",
        "*   Diferença simétrica\n",
        "*   Pertinência \n",
        "\n",
        "\n",
        "\n",
        "\n",
        "\n",
        "\n"
      ],
      "metadata": {
        "id": "7cRTV89n9mGp"
      }
    },
    {
      "cell_type": "markdown",
      "source": [
        "#Os métodos \n"
      ],
      "metadata": {
        "id": "m80qK_aDAHSM"
      }
    },
    {
      "cell_type": "markdown",
      "source": [
        "#União\n",
        "\n"
      ],
      "metadata": {
        "id": "los7S028D2PP"
      }
    },
    {
      "cell_type": "markdown",
      "source": [
        "A união de conjuntos corresponde a junção dos elementos dos conjuntos dados, ou seja, é o conjunto formado pelos elementos de um conjunto mais os elementos dos outros conjuntos.\n",
        "\n",
        "Se existirem elementos que se repetem nos conjuntos, ele aparecerá uma única vez no conjunto união.\n",
        "\n",
        "Para representar a união usamos o símbolo U.\n",
        "\n",
        "<figure><center><img src=\"https://static.todamateria.com.br/upload/un/ia/uniao.jpg\" width=300 alt=\"União\"/></center></figure> \n",
        "\n",
        "Suponha que tenhamos dois conjuntos E = {0,1,3,5,7,9} e F = {0,2,4,6,8} e desejamos construir um conjunto C que é a união dos conjuntos A e B. Matematicamente, temos que G = A∪B = {0,1,2,3,4,5,6,7,8,9}. Note que o 0 aparece em ambos conjuntos, mas aparece uma única vez no conjunto G.\n",
        "\n",
        "Em Python, podemos realizar a operação acima da seguinte forma:\n",
        "\n"
      ],
      "metadata": {
        "id": "1YVod33iEDEq"
      }
    },
    {
      "cell_type": "code",
      "source": [
        "E = {1, 3, 5, 7, 9} \n",
        "F = {0, 2, 4, 6, 8}\n",
        "G = E.union(F)\n",
        "print(G)"
      ],
      "metadata": {
        "id": "RbGcJ8ibZ58y",
        "outputId": "38c542bd-1c2d-40c8-c36b-9e14cea7ebee",
        "colab": {
          "base_uri": "https://localhost:8080/"
        }
      },
      "execution_count": null,
      "outputs": [
        {
          "output_type": "stream",
          "name": "stdout",
          "text": [
            "{0, 1, 2, 3, 4, 5, 6, 7, 8, 9}\n"
          ]
        }
      ]
    },
    {
      "cell_type": "markdown",
      "source": [
        "Modo alternativo de executar a união de dois conjuntos:"
      ],
      "metadata": {
        "id": "wzjnxw2iaWNY"
      }
    },
    {
      "cell_type": "code",
      "source": [
        "H = E | F\n",
        "print(H)"
      ],
      "metadata": {
        "id": "ROJnkNBtaagU",
        "outputId": "cb12ae67-da9c-4ff4-d9d5-8c7784177d31",
        "colab": {
          "base_uri": "https://localhost:8080/"
        }
      },
      "execution_count": null,
      "outputs": [
        {
          "output_type": "stream",
          "name": "stdout",
          "text": [
            "{0, 1, 2, 3, 4, 5, 6, 7, 8, 9}\n"
          ]
        }
      ]
    },
    {
      "cell_type": "markdown",
      "source": [
        "#Interseção "
      ],
      "metadata": {
        "id": "b57_gWbbH1Ot"
      }
    },
    {
      "cell_type": "markdown",
      "source": [
        "A intersecção de conjuntos corresponde aos elementos que se repetem nos conjuntos dados. Ela é representada pelo símbolo ∩.\n",
        "\n",
        "<figure><center><img src=\"https://static.todamateria.com.br/upload/in/te/interseca_ao.jpg?auto_optimize=low\" width=300 alt=\"Intersecção\"/></center></figure> \n",
        "\n",
        "\n",
        "\n",
        "Em Python, podemos realizar a operação acima da seguinte forma:\n",
        "\n"
      ],
      "metadata": {
        "id": "omWTEk2qN4EJ"
      }
    },
    {
      "cell_type": "code",
      "source": [
        "I = {0, 1, 3, 4, 5, 7, 9}\n",
        "J = {0, 2, 4, 6, 8}\n",
        "K = I.intersection(J)\n",
        "print(K)"
      ],
      "metadata": {
        "id": "Ai3rDbiha8dN",
        "outputId": "fee2e7ad-bb06-4d7d-9721-e99a8ace6536",
        "colab": {
          "base_uri": "https://localhost:8080/"
        }
      },
      "execution_count": null,
      "outputs": [
        {
          "output_type": "stream",
          "name": "stdout",
          "text": [
            "{0, 4}\n"
          ]
        }
      ]
    },
    {
      "cell_type": "markdown",
      "source": [
        "Modo alternativo de executar a Interseção de dois conjuntos:"
      ],
      "metadata": {
        "id": "o5R19qdVbExq"
      }
    },
    {
      "cell_type": "code",
      "source": [
        "L = I & J\n",
        "print(L)"
      ],
      "metadata": {
        "id": "ewHpRSaDbLQy",
        "outputId": "90a58655-90a3-4810-9e68-2c36e6f8b5d7",
        "colab": {
          "base_uri": "https://localhost:8080/"
        }
      },
      "execution_count": null,
      "outputs": [
        {
          "output_type": "stream",
          "name": "stdout",
          "text": [
            "{0, 4}\n"
          ]
        }
      ]
    },
    {
      "cell_type": "markdown",
      "source": [
        "#Diferença de conjuntos "
      ],
      "metadata": {
        "id": "bRiNO2WbOV15"
      }
    },
    {
      "cell_type": "markdown",
      "source": [
        "A diferença de conjuntos é representada pelos elementos de um conjunto que não aparecem no outro conjunto.\n",
        "\n",
        "<figure><center><img src=\"https://e7.pngegg.com/pngimages/273/846/png-clipart-venn-diagram-set-theory-diferencia-de-conjuntos-lady-macbeth-fainting-template-angle.png\" width=300 alt=\"Diferença de Conjuntos\"/></center></figure> \n",
        "\n",
        "\n",
        "Em Python, podemos realizar a operação acima da seguinte forma:\n"
      ],
      "metadata": {
        "id": "UrB2nEOyQF3t"
      }
    },
    {
      "cell_type": "code",
      "source": [
        "\n",
        "M = {1, 2, 3, 4}\n",
        "N = {3, 4, 5, 6}\n",
        "O = M.difference(N)\n",
        "P = N.difference(M)\n",
        "print(O)\n",
        "print(P)\n",
        "     "
      ],
      "metadata": {
        "id": "sQXxSNLYbgwz",
        "outputId": "4765b706-d8aa-4d0f-cf1c-d4fca2ceff23",
        "colab": {
          "base_uri": "https://localhost:8080/"
        }
      },
      "execution_count": null,
      "outputs": [
        {
          "output_type": "stream",
          "name": "stdout",
          "text": [
            "{1, 2}\n",
            "{5, 6}\n"
          ]
        }
      ]
    },
    {
      "cell_type": "markdown",
      "source": [
        "Modo alternativo de executar a diferença de dois conjuntos:"
      ],
      "metadata": {
        "id": "OJvUoY8Qbk0r"
      }
    },
    {
      "cell_type": "code",
      "source": [
        "Q = M - N\n",
        "R = N - M\n",
        "print(Q)\n",
        "print(R)"
      ],
      "metadata": {
        "id": "xp5nOv9Vbp0C",
        "outputId": "47126ec8-daf5-41ec-d41e-336e1ddff2c1",
        "colab": {
          "base_uri": "https://localhost:8080/"
        }
      },
      "execution_count": null,
      "outputs": [
        {
          "output_type": "stream",
          "name": "stdout",
          "text": [
            "{1, 2}\n",
            "{5, 6}\n"
          ]
        }
      ]
    },
    {
      "cell_type": "markdown",
      "source": [
        "#Diferença Simétrica "
      ],
      "metadata": {
        "id": "r6b1y-cpdamA"
      }
    },
    {
      "cell_type": "markdown",
      "source": [
        "A diferença simétrica entre os conjuntos A e B é o conjunto de todos os elementos que pertencem à reunião dos conjuntos A e B e não pertencem à interseção dos conjuntos A e B.\n",
        "\n",
        "<figure><center><img src=\"https://encrypted-tbn0.gstatic.com/images?q=tbn:ANd9GcS-D5FM1SHPub3kcWlQ1H6cx1d5vKA1lxa0Wg&usqp=CAU\" width=300 alt=\"Diferença Sinétrica\"/></center></figure> \n",
        "\n",
        "\n",
        "Em Python, podemos realizar a operação acima da seguinte forma:"
      ],
      "metadata": {
        "id": "S2EBDYk1dgzr"
      }
    },
    {
      "cell_type": "code",
      "source": [
        "S = {14, 16, 21, 23}\n",
        "T = {23, 21, 52, 64}\n",
        "print(S.symmetric_difference(T))"
      ],
      "metadata": {
        "id": "SFb8VYEib2FW",
        "outputId": "5b55b926-8329-48ac-86c7-ab0d121358f9",
        "colab": {
          "base_uri": "https://localhost:8080/"
        }
      },
      "execution_count": null,
      "outputs": [
        {
          "output_type": "stream",
          "name": "stdout",
          "text": [
            "{64, 14, 16, 52}\n"
          ]
        }
      ]
    },
    {
      "cell_type": "markdown",
      "source": [
        "#Pertinência "
      ],
      "metadata": {
        "id": "20YXhYmneMWQ"
      }
    },
    {
      "cell_type": "markdown",
      "source": [
        "Além das operações tradicionais de união, interseção e diferença, também temos operações de verificação de pertinência. Para verificar se um determinado elemento pertence a um conjunto, podemos usar o já conhecido operador de pertinência in:\n",
        "\n",
        "\n"
      ],
      "metadata": {
        "id": "aC5uHkbIeOQt"
      }
    },
    {
      "cell_type": "code",
      "source": [
        "\n",
        "print(14 in A)\n",
        "print(6 in C)\n",
        "print(9 in G)\n",
        "print(3 in I)\n",
        "print(2 in K)\n",
        "print(21 in M)"
      ],
      "metadata": {
        "id": "n8EIQQ1ncJdx",
        "outputId": "2410afb5-91b5-49c3-b784-0cb146213dd2",
        "colab": {
          "base_uri": "https://localhost:8080/"
        }
      },
      "execution_count": null,
      "outputs": [
        {
          "output_type": "stream",
          "name": "stdout",
          "text": [
            "False\n",
            "True\n",
            "True\n",
            "True\n",
            "False\n",
            "False\n"
          ]
        }
      ]
    },
    {
      "cell_type": "markdown",
      "source": [
        "Também podemos verificar se um conjunto é um subconjunto de outro:\n",
        "\n",
        "a = {1, 2, 3, 4}\n",
        "c = {1, 2}\n",
        "c.issubset(a)\n",
        "True\n",
        "a.issubset(c)\n",
        "False"
      ],
      "metadata": {
        "id": "IxIBaf-jcGLJ"
      }
    },
    {
      "cell_type": "code",
      "source": [
        "U = {1, 2, 3, 4}\n",
        "V = {1, 2}\n",
        "W = U.issubset(V)\n",
        "X = V.issubset(U)\n",
        "print(W)\n",
        "print(X)"
      ],
      "metadata": {
        "id": "w_i2w-YXcSen",
        "outputId": "22f3b526-df3e-4043-9fe1-d796cf660a5c",
        "colab": {
          "base_uri": "https://localhost:8080/"
        }
      },
      "execution_count": null,
      "outputs": [
        {
          "output_type": "stream",
          "name": "stdout",
          "text": [
            "False\n",
            "True\n"
          ]
        }
      ]
    },
    {
      "cell_type": "markdown",
      "source": [
        "#Referências \n",
        "\n",
        "*   https://algoritmosempython.com.br/cursos/programacao-python/conjuntos/\n",
        "*   https://pythonhelp.wordpress.com/2013/06/18/conjuntos-em-python/ \n",
        "*   https://www.todamateria.com.br/teoria-dos-conjuntos/"
      ],
      "metadata": {
        "id": "8rixLQ65fMQR"
      }
    }
  ]
}
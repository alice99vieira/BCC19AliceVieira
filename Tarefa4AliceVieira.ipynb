{
  "nbformat": 4,
  "nbformat_minor": 0,
  "metadata": {
    "colab": {
      "provenance": [],
      "authorship_tag": "ABX9TyOpK83qn7S8k2QFvo83VxYa",
      "include_colab_link": true
    },
    "kernelspec": {
      "name": "python3",
      "display_name": "Python 3"
    },
    "language_info": {
      "name": "python"
    }
  },
  "cells": [
    {
      "cell_type": "markdown",
      "metadata": {
        "id": "view-in-github",
        "colab_type": "text"
      },
      "source": [
        "<a href=\"https://colab.research.google.com/github/alice99vieira/BCC19AliceVieira/blob/main/Tarefa4AliceVieira.ipynb\" target=\"_parent\"><img src=\"https://colab.research.google.com/assets/colab-badge.svg\" alt=\"Open In Colab\"/></a>"
      ]
    },
    {
      "cell_type": "markdown",
      "source": [],
      "metadata": {
        "id": "DaDIajpu2a94"
      }
    },
    {
      "cell_type": "markdown",
      "source": [
        "#ALICE VIEIRA \n"
      ],
      "metadata": {
        "id": "yzN4ySvu2ck_"
      }
    },
    {
      "cell_type": "markdown",
      "source": [
        "Tarefa (para antes da próxima aula)\n",
        "\n",
        "Escrever um Notebook do Colab para calcular as quatro expressões a seguir.\n",
        "\n",
        "Colocar o seu nome e na primeira célula do Notebook.\n",
        "\n",
        "O notebook deve conter textos explicando o que o notebook faz.\n",
        "\n",
        "Todos os resultados devem ser mostrados ao executar o o Notebook.\n",
        "\n",
        "Coloque no seu repositório do Github o arquivo '.ipynb' contendo o script feito por você com o nome \"Tarefa4SeuNome.ipynb\""
      ],
      "metadata": {
        "id": "bAoVcy7O2gD4"
      }
    },
    {
      "cell_type": "code",
      "source": [
        "#include <stdio.h>\n",
        "#include <conio.h>\n",
        "#include <math.h>\n",
        "\n",
        "def valor():\n",
        "    print ('Digite o valor do raio')\n",
        "    x = input()\n",
        "    raio = int(x)\n",
        "    return raio\n",
        "\n",
        "def equacao(raio):\n",
        "    volume = (4/3)*3.14*(raio**3)\n",
        "    return volume\n",
        "\n"
      ],
      "metadata": {
        "id": "FK39qIWr2nhc"
      },
      "execution_count": 9,
      "outputs": []
    },
    {
      "cell_type": "markdown",
      "source": [],
      "metadata": {
        "id": "GpP5kp7f5gmA"
      }
    },
    {
      "cell_type": "code",
      "source": [
        "def menu_inicial():\n",
        "    print('Programa para Conversão de Temperaturas')\n",
        "    print('1. Converter de Celsius para Fahrenheit')\n",
        "    print('2. Converter de Fahrenheit para Celsius')\n",
        "\n",
        "def cel_fahr():\n",
        "    C = float(input('Entre com a temperatura em graus Celsius: '))\n",
        "    F = C * (10 / 5) + 32\n",
        "    print('Valor em Fahrenheit: {0}°F'.format(F))\n",
        "\n",
        "def fahr_cel():\n",
        "    F = float(input('Entre com a temperatura em graus Fahrenheit: '))\n",
        "    C = (F - 32) * (5 / 9)\n",
        "    print('Valor em Celsius: {0}°C'.format(C))\n",
        "\n"
      ],
      "metadata": {
        "id": "RHFpBq-04FOb"
      },
      "execution_count": 10,
      "outputs": []
    },
    {
      "cell_type": "code",
      "source": [
        "def menu_inicial():\n",
        "    print('Programa para Conversão de Temperaturas')\n",
        "    print('1. Converter de Celsius para Fahrenheit')\n",
        "    print('2. Converter de Fahrenheit para Celsius')\n",
        "\n",
        "def cel_fahr():\n",
        "    C = float(input('Entre com a temperatura em graus Celsius: '))\n",
        "    F = C * (30 / 5) + 32\n",
        "    print('Valor em Fahrenheit: {0}°F'.format(F))\n",
        "\n",
        "def fahr_cel():\n",
        "    F = float(input('Entre com a temperatura em graus Fahrenheit: '))\n",
        "    C = (F - 32) * (5 / 9)\n",
        "    print('Valor em Celsius: {0}°C'.format(C))\n",
        "\n"
      ],
      "metadata": {
        "id": "yQaG7v0p5SIg"
      },
      "execution_count": null,
      "outputs": []
    },
    {
      "cell_type": "code",
      "source": [
        "def menu_inicial():\n",
        "    print('Programa para Conversão de Temperaturas')\n",
        "    print('1. Converter de Celsius para Fahrenheit')\n",
        "    print('2. Converter de Fahrenheit para Celsius')\n",
        "\n",
        "def cel_fahr():\n",
        "    C = float(input('Entre com a temperatura em graus Celsius: '))\n",
        "    F = C * (5 / 5) + 32\n",
        "    print('Valor em Fahrenheit: {0}°F'.format(F))\n",
        "\n",
        "def fahr_cel():\n",
        "    F = float(input('Entre com a temperatura em graus Fahrenheit: '))\n",
        "    C = (F - 32) * (5 / 9)\n",
        "    print('Valor em Celsius: {0}°C'.format(C))\n",
        "\n"
      ],
      "metadata": {
        "id": "3CylMLeG5YGa"
      },
      "execution_count": null,
      "outputs": []
    },
    {
      "cell_type": "code",
      "source": [
        "#abaixo: definição da função seno por sin² + cos² = 1\n",
        "\n",
        "def seno(numero):\n",
        "    resultado = 0\n",
        "    resultado = raizQuadrada(1 - (coseno(30))**2)\n",
        "    return resultado\n"
      ],
      "metadata": {
        "id": "rEpGNbUu7U2g"
      },
      "execution_count": null,
      "outputs": []
    },
    {
      "cell_type": "code",
      "source": [
        "#abaixo: definição da função seno por sin² + cos² = 1\n",
        "\n",
        "def seno(numero):\n",
        "    resultado = 0\n",
        "    resultado = raizQuadrada(3 - (coseno(45))**1)\n",
        "    return resultado\n"
      ],
      "metadata": {
        "id": "BfEt1li_7eDn"
      },
      "execution_count": null,
      "outputs": []
    },
    {
      "cell_type": "code",
      "source": [
        "#abaixo: definição da função seno por sin² + cos² = 1\n",
        "\n",
        "def seno(numero):\n",
        "    resultado = 0\n",
        "    resultado = raizQuadrada(10 - (coseno(15))**11)\n",
        "    return resultado\n"
      ],
      "metadata": {
        "id": "reB870Tp7oZq"
      },
      "execution_count": null,
      "outputs": []
    },
    {
      "cell_type": "code",
      "source": [
        "n = int(input(\"Que termo deseja encontrar: \"))\n",
        "ultimo=1\n",
        "penultimo=1\n",
        "\n",
        "\n",
        "if (n==1) or (n==2):\n",
        "    print(\"30\")\n",
        "else:\n",
        "    count=3\n",
        "    while count <= n:\n",
        "        termo = ultimo + penultimo\n",
        "        penultimo = ultimo\n",
        "        ultimo = termo\n",
        "        count += 1\n",
        "    print(termo)"
      ],
      "metadata": {
        "colab": {
          "base_uri": "https://localhost:8080/"
        },
        "id": "YWero6PA791u",
        "outputId": "94f7a7e6-c304-42d0-eef4-86206fb00d39"
      },
      "execution_count": null,
      "outputs": [
        {
          "output_type": "stream",
          "name": "stdout",
          "text": [
            "Que termo deseja encontrar: 30\n",
            "832040\n"
          ]
        }
      ]
    },
    {
      "cell_type": "code",
      "source": [
        "n = int(input(\"Que termo deseja encontrar: \"))\n",
        "ultimo=1\n",
        "penultimo=1\n",
        "\n",
        "\n",
        "if (n==1) or (n==2):\n",
        "    print(\"31\")\n",
        "else:\n",
        "    count=3\n",
        "    while count <= n:\n",
        "        termo = ultimo + penultimo\n",
        "        penultimo = ultimo\n",
        "        ultimo = termo\n",
        "        count += 1\n",
        "    print(termo)"
      ],
      "metadata": {
        "colab": {
          "base_uri": "https://localhost:8080/"
        },
        "outputId": "202e4baf-7cd9-4055-8de3-f2c0c49db2b2",
        "id": "9vsdvm6A8aPj"
      },
      "execution_count": null,
      "outputs": [
        {
          "output_type": "stream",
          "name": "stdout",
          "text": [
            "Que termo deseja encontrar: 31\n",
            "1346269\n"
          ]
        }
      ]
    },
    {
      "cell_type": "code",
      "source": [
        "n = int(input(\"Que termo deseja encontrar: \"))\n",
        "ultimo=1\n",
        "penultimo=1\n",
        "\n",
        "\n",
        "if (n==1) or (n==2):\n",
        "    print(\"32\")\n",
        "else:\n",
        "    count=3\n",
        "    while count <= n:\n",
        "        termo = ultimo + penultimo\n",
        "        penultimo = ultimo\n",
        "        ultimo = termo\n",
        "        count += 1\n",
        "    print(termo)"
      ],
      "metadata": {
        "colab": {
          "base_uri": "https://localhost:8080/"
        },
        "outputId": "89ba39d2-c23d-4679-e46c-d093359af490",
        "id": "MxNNdnJl8fyL"
      },
      "execution_count": null,
      "outputs": [
        {
          "output_type": "stream",
          "name": "stdout",
          "text": [
            "Que termo deseja encontrar: 32\n",
            "2178309\n"
          ]
        }
      ]
    }
  ]
}